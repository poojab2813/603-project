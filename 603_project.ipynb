{
  "nbformat": 4,
  "nbformat_minor": 0,
  "metadata": {
    "colab": {
      "provenance": []
    },
    "kernelspec": {
      "name": "python3",
      "display_name": "Python 3"
    },
    "language_info": {
      "name": "python"
    }
  },
  "cells": [
    {
      "cell_type": "markdown",
      "source": [
        "## Install and Setup a Spark session."
      ],
      "metadata": {
        "id": "yw8zSquEcVOi"
      }
    },
    {
      "cell_type": "code",
      "source": [
        "!pip install pyspark"
      ],
      "metadata": {
        "colab": {
          "base_uri": "https://localhost:8080/"
        },
        "id": "4uTFLEyvjupR",
        "outputId": "fe8add1b-0b42-4cba-ca63-3aec5b111fde"
      },
      "execution_count": 2,
      "outputs": [
        {
          "output_type": "stream",
          "name": "stdout",
          "text": [
            "Collecting pyspark\n",
            "  Downloading pyspark-3.5.1.tar.gz (317.0 MB)\n",
            "\u001b[2K     \u001b[90m━━━━━━━━━━━━━━━━━━━━━━━━━━━━━━━━━━━━━━━━\u001b[0m \u001b[32m317.0/317.0 MB\u001b[0m \u001b[31m4.6 MB/s\u001b[0m eta \u001b[36m0:00:00\u001b[0m\n",
            "\u001b[?25h  Preparing metadata (setup.py) ... \u001b[?25l\u001b[?25hdone\n",
            "Requirement already satisfied: py4j==0.10.9.7 in /usr/local/lib/python3.10/dist-packages (from pyspark) (0.10.9.7)\n",
            "Building wheels for collected packages: pyspark\n",
            "  Building wheel for pyspark (setup.py) ... \u001b[?25l\u001b[?25hdone\n",
            "  Created wheel for pyspark: filename=pyspark-3.5.1-py2.py3-none-any.whl size=317488491 sha256=80875daed0effbc6464a4889570293d020447a0ebda67008db3bd4a0c8fad02f\n",
            "  Stored in directory: /root/.cache/pip/wheels/80/1d/60/2c256ed38dddce2fdd93be545214a63e02fbd8d74fb0b7f3a6\n",
            "Successfully built pyspark\n",
            "Installing collected packages: pyspark\n",
            "Successfully installed pyspark-3.5.1\n"
          ]
        }
      ]
    },
    {
      "cell_type": "code",
      "source": [
        "from pyspark.sql import SparkSession\n",
        "spark = SparkSession.builder.master(\"local[*]\").appName(\"Weather Analysis\").getOrCreate()"
      ],
      "metadata": {
        "id": "3dsx08kwkC5E"
      },
      "execution_count": 3,
      "outputs": []
    },
    {
      "cell_type": "markdown",
      "source": [
        "## <b>1 <span style='color:#0386f7de'>|</span> Reading and Understanding the Datasets</b>"
      ],
      "metadata": {
        "id": "is3pcULgjvKY"
      }
    },
    {
      "cell_type": "code",
      "source": [
        "df_weather = spark.read.csv('/content/LCD_sample.csv', header=True, inferSchema=True)\n",
        "df_weather.show(5)\n"
      ],
      "metadata": {
        "colab": {
          "base_uri": "https://localhost:8080/"
        },
        "id": "I_2eY4cSjvcD",
        "outputId": "1317aa82-252d-4f99-b2c0-321fa8e2d0f6"
      },
      "execution_count": 8,
      "outputs": [
        {
          "output_type": "stream",
          "name": "stdout",
          "text": [
            "+----------+--------------------+---------+--------+---------+-------------+----------+-------------------+----------------+------------------------+-------------------------+-------------------------+-------------------------+-------------------------+--------------------------+--------------------------+----------------------+---------------+-------------------+-------------------+---------------------+----------------------+--------------------+----------------------+-------------------+----------------------+------------------------------+------------------------------+------------------------------+------------------------------------------+----------------------------+-------------------------------+------------------------------+----------------------+----------------------+------------+-----------+------------------+-------------+--------------+---------------------------+----------------------------+---------------------+------------------+-----------------+-----------------------+---------------------------+\n",
            "|   STATION|        STATION_NAME|ELEVATION|LATITUDE|LONGITUDE|         DATE|reportType|HourlySkyConditions|HourlyVisibility|HourlyPresentWeatherType|HourlyDryBulbTemperatureF|HourlyDryBulbTemperatureC|HourlyWetBulbTemperatureF|HourlyWetBulbTemperatureC|HourlyDewPointTemperatureF|HourlyDewPointTemperatureC|HourlyRelativeHumidity|HourlyWindSpeed|HourlyWindDirection|HourlyWindGustSpeed|HourlyStationPressure|HourlyPressureTendency|HourlyPressureChange|HourlySeaLevelPressure|HourlyPrecipitation|HourlyAltimeterSetting|DailyMaximumDryBulbTemperature|DailyMinimumDryBulbTemperature|DailyAverageDryBulbTemperature|DailyDepartureFromNormalAverageTemperature|DailyAverageRelativeHumidity|DailyAverageDewPointTemperature|DailyAverageWetBulbTemperature|DailyHeatingDegreeDays|DailyCoolingDegreeDays|DailySunrise|DailySunset|DailyPrecipitation|DailySnowfall|DailySnowDepth|DailyAverageStationPressure|DailyAverageSeaLevelPressure|DailyAverageWindSpeed|DailyPeakWindSpeed|PeakWindDirection|DailySustainedWindSpeed|DailySustainedWindDirection|\n",
            "+----------+--------------------+---------+--------+---------+-------------+----------+-------------------+----------------+------------------------+-------------------------+-------------------------+-------------------------+-------------------------+--------------------------+--------------------------+----------------------+---------------+-------------------+-------------------+---------------------+----------------------+--------------------+----------------------+-------------------+----------------------+------------------------------+------------------------------+------------------------------+------------------------------------------+----------------------------+-------------------------------+------------------------------+----------------------+----------------------+------------+-----------+------------------+-------------+--------------+---------------------------+----------------------------+---------------------+------------------+-----------------+-----------------------+---------------------------+\n",
            "|WBAN:94846|CHICAGO OHARE INT...|    201.8|  41.995| -87.9336|3/1/2014 0:51|     FM-15|SCT:04 70 OVC:08 90|            10.0|                    NULL|                       30|                     -1.1|                       26|                     -3.4|                        16|                      -8.9|                    56|              9|                330|               NULL|                29.28|                  NULL|                NULL|                 30.02|               NULL|                  30.0|                          NULL|                          NULL|                          NULL|                                      NULL|                        NULL|                           NULL|                          NULL|                  NULL|                  NULL|        1227|       2342|              NULL|         NULL|          NULL|                       NULL|                        NULL|                 NULL|              NULL|             NULL|                   NULL|                       NULL|\n",
            "|WBAN:94846|CHICAGO OHARE INT...|    201.8|  41.995| -87.9336|3/1/2014 1:51|     FM-15|          OVC:08 50|            10.0|                    NULL|                       30|                     -1.1|                       26|                     -3.3|                        17|                      -8.3|                    58|              0|                  0|               NULL|                29.27|                  NULL|                NULL|                 30.02|               NULL|                 29.99|                          NULL|                          NULL|                          NULL|                                      NULL|                        NULL|                           NULL|                          NULL|                  NULL|                  NULL|        1227|       2342|              NULL|         NULL|          NULL|                       NULL|                        NULL|                 NULL|              NULL|             NULL|                   NULL|                       NULL|\n",
            "|WBAN:94846|CHICAGO OHARE INT...|    201.8|  41.995| -87.9336|3/1/2014 2:51|     FM-15|          OVC:08 29|             6.0|         -SN:03 |SN:71 ||                       29|                     -1.7|                       26|                     -3.2|                        21|                      -6.1|                    72|              8|                330|               NULL|                29.28|                     1|               -0.03|                 30.02|              0.01s|                  30.0|                          NULL|                          NULL|                          NULL|                                      NULL|                        NULL|                           NULL|                          NULL|                  NULL|                  NULL|        1227|       2342|              NULL|         NULL|          NULL|                       NULL|                        NULL|                 NULL|              NULL|             NULL|                   NULL|                       NULL|\n",
            "|WBAN:94846|CHICAGO OHARE INT...|    201.8|  41.995| -87.9336|3/1/2014 3:51|     FM-15|            VV:09 9|            0.75|         -SN:03 |SN:71 ||                       28|                     -2.2|                       26|                     -3.3|                        23|                      -5.0|                    81|              0|                  0|               NULL|                29.29|                  NULL|                NULL|                 30.04|               0.03|                 30.01|                          NULL|                          NULL|                          NULL|                                      NULL|                        NULL|                           NULL|                          NULL|                  NULL|                  NULL|        1227|       2342|              NULL|         NULL|          NULL|                       NULL|                        NULL|                 NULL|              NULL|             NULL|                   NULL|                       NULL|\n",
            "|WBAN:94846|CHICAGO OHARE INT...|    201.8|  41.995| -87.9336|3/1/2014 4:51|     FM-15|           OVC:08 8|            10.0|                    NULL|                       26|                     -3.3|                       24|                     -4.5|                        20|                      -6.7|                    78|             11|                350|               NULL|                29.32|                  NULL|                NULL|                 30.06|               0.01|                 30.04|                          NULL|                          NULL|                          NULL|                                      NULL|                        NULL|                           NULL|                          NULL|                  NULL|                  NULL|        1227|       2342|              NULL|         NULL|          NULL|                       NULL|                        NULL|                 NULL|              NULL|             NULL|                   NULL|                       NULL|\n",
            "+----------+--------------------+---------+--------+---------+-------------+----------+-------------------+----------------+------------------------+-------------------------+-------------------------+-------------------------+-------------------------+--------------------------+--------------------------+----------------------+---------------+-------------------+-------------------+---------------------+----------------------+--------------------+----------------------+-------------------+----------------------+------------------------------+------------------------------+------------------------------+------------------------------------------+----------------------------+-------------------------------+------------------------------+----------------------+----------------------+------------+-----------+------------------+-------------+--------------+---------------------------+----------------------------+---------------------+------------------+-----------------+-----------------------+---------------------------+\n",
            "only showing top 5 rows\n",
            "\n"
          ]
        }
      ]
    },
    {
      "cell_type": "markdown",
      "source": [
        "## <b>2 <span style='color:#0386f7de'>|</span> Data Cleaning</b>"
      ],
      "metadata": {
        "id": "fY8Neg9ndsOs"
      }
    },
    {
      "cell_type": "code",
      "source": [
        "df_weather.count()"
      ],
      "metadata": {
        "colab": {
          "base_uri": "https://localhost:8080/"
        },
        "id": "Om5rMLeD0wWp",
        "outputId": "f4503559-4e56-43c1-aa26-50946744fc42"
      },
      "execution_count": 9,
      "outputs": [
        {
          "output_type": "execute_result",
          "data": {
            "text/plain": [
              "772"
            ]
          },
          "metadata": {},
          "execution_count": 9
        }
      ]
    },
    {
      "cell_type": "markdown",
      "source": [
        "**Indeed non-null and non-NaN values**"
      ],
      "metadata": {
        "id": "cVkFzqb38592"
      }
    },
    {
      "cell_type": "code",
      "source": [
        "from pyspark.sql.functions import isnan, when, count, col\n",
        "\n",
        "# Count non-NaN values for each field\n",
        "df_weather.select([count(when(~isnan(c) & ~col(c).isNull(), c)).alias(c) for c in [\"HourlyDryBulbTemperatureF\", \"HourlyRelativeHumidity\"]]).show()\n"
      ],
      "metadata": {
        "colab": {
          "base_uri": "https://localhost:8080/"
        },
        "id": "4iwGTkIj1Z10",
        "outputId": "f4a3fb2b-65dc-4ee6-8bd9-e5226ae508e3"
      },
      "execution_count": 11,
      "outputs": [
        {
          "output_type": "stream",
          "name": "stdout",
          "text": [
            "+-------------------------+----------------------+\n",
            "|HourlyDryBulbTemperatureF|HourlyRelativeHumidity|\n",
            "+-------------------------+----------------------+\n",
            "|                      742|                   742|\n",
            "+-------------------------+----------------------+\n",
            "\n"
          ]
        }
      ]
    },
    {
      "cell_type": "markdown",
      "source": [
        "**Check for Empty Strings**"
      ],
      "metadata": {
        "id": "sd9tV0YK8_Ht"
      }
    },
    {
      "cell_type": "code",
      "source": [
        "df = df_weather.withColumn(\"HourlyDryBulbTemperatureF\", when(col(\"HourlyDryBulbTemperatureF\") == \"\", None).otherwise(col(\"HourlyDryBulbTemperatureF\")))\n",
        "df = df_weather.withColumn(\"HourlyRelativeHumidity\", when(col(\"HourlyRelativeHumidity\") == \"\", None).otherwise(col(\"HourlyRelativeHumidity\")))\n",
        "df"
      ],
      "metadata": {
        "id": "U0QrfmMs1a3r",
        "colab": {
          "base_uri": "https://localhost:8080/"
        },
        "outputId": "3fe3438e-da41-48f5-f28a-0f237d208c24"
      },
      "execution_count": 26,
      "outputs": [
        {
          "output_type": "execute_result",
          "data": {
            "text/plain": [
              "DataFrame[STATION: string, STATION_NAME: string, ELEVATION: double, LATITUDE: double, LONGITUDE: double, DATE: string, reportType: string, HourlySkyConditions: string, HourlyVisibility: double, HourlyPresentWeatherType: string, HourlyDryBulbTemperatureF: int, HourlyDryBulbTemperatureC: double, HourlyWetBulbTemperatureF: int, HourlyWetBulbTemperatureC: double, HourlyDewPointTemperatureF: int, HourlyDewPointTemperatureC: double, HourlyRelativeHumidity: int, HourlyWindSpeed: int, HourlyWindDirection: string, HourlyWindGustSpeed: int, HourlyStationPressure: double, HourlyPressureTendency: int, HourlyPressureChange: double, HourlySeaLevelPressure: string, HourlyPrecipitation: string, HourlyAltimeterSetting: double, DailyMaximumDryBulbTemperature: int, DailyMinimumDryBulbTemperature: int, DailyAverageDryBulbTemperature: int, DailyDepartureFromNormalAverageTemperature: double, DailyAverageRelativeHumidity: int, DailyAverageDewPointTemperature: string, DailyAverageWetBulbTemperature: int, DailyHeatingDegreeDays: int, DailyCoolingDegreeDays: int, DailySunrise: int, DailySunset: int, DailyPrecipitation: string, DailySnowfall: string, DailySnowDepth: int, DailyAverageStationPressure: int, DailyAverageSeaLevelPressure: int, DailyAverageWindSpeed: int, DailyPeakWindSpeed: int, PeakWindDirection: int, DailySustainedWindSpeed: int, DailySustainedWindDirection: int]"
            ]
          },
          "metadata": {},
          "execution_count": 26
        }
      ]
    },
    {
      "cell_type": "markdown",
      "source": [
        "**Fill Missing Values**"
      ],
      "metadata": {
        "id": "NPA8VQ3-9F-o"
      }
    },
    {
      "cell_type": "code",
      "source": [
        "df = df_weather.na.fill({\"HourlyDryBulbTemperatureF\": 0, \"HourlyRelativeHumidity\": 0})"
      ],
      "metadata": {
        "id": "IFqdb4r21eVT"
      },
      "execution_count": 29,
      "outputs": []
    },
    {
      "cell_type": "markdown",
      "source": [
        "**Create our pipeline**"
      ],
      "metadata": {
        "id": "xQwJ4p_88Xt3"
      }
    },
    {
      "cell_type": "code",
      "source": [
        "from pyspark.ml.feature import Imputer\n",
        "\n",
        "imputer = Imputer(\n",
        "    inputCols=[\"HourlyDryBulbTemperatureF\", \"HourlyRelativeHumidity\"],\n",
        "    outputCols=[\"HourlyDryBulbTemperatureF_imputed\", \"HourlyRelativeHumidity_imputed\"]\n",
        ").setStrategy(\"median\")\n"
      ],
      "metadata": {
        "id": "ZL4HaJBI1kOV"
      },
      "execution_count": 30,
      "outputs": []
    },
    {
      "cell_type": "code",
      "source": [
        "from pyspark.ml import Pipeline\n",
        "from pyspark.ml.feature import Imputer, VectorAssembler, StandardScaler, OneHotEncoder, StringIndexer\n",
        "\n",
        "assembler = VectorAssembler(\n",
        "    inputCols=[\"HourlyDryBulbTemperatureF_imputed\", \"HourlyRelativeHumidity_imputed\"],\n",
        "    outputCol=\"features\"\n",
        ")\n",
        "\n",
        "# Define StandardScaler to scale the numerical features\n",
        "scaler = StandardScaler(\n",
        "    inputCol=\"features\",\n",
        "    outputCol=\"scaledFeatures\",\n",
        "    withStd=True,\n",
        "    withMean=False\n",
        ")"
      ],
      "metadata": {
        "id": "WiQT-kZ41my-"
      },
      "execution_count": 31,
      "outputs": []
    },
    {
      "cell_type": "code",
      "source": [
        "# Define the pipeline which consists of stages\n",
        "pipeline = Pipeline(stages=[imputer, assembler, scaler])\n",
        "\n",
        "# Now you can fit and transform your pipeline\n",
        "pipeline_model = pipeline.fit(df)\n",
        "df_transformed = pipeline_model.transform(df)"
      ],
      "metadata": {
        "id": "1ybCXwyG8O2N"
      },
      "execution_count": 32,
      "outputs": []
    },
    {
      "cell_type": "code",
      "source": [
        "# Show the results of the transformation\n",
        "df_transformed.show()"
      ],
      "metadata": {
        "colab": {
          "base_uri": "https://localhost:8080/"
        },
        "id": "0tROztAp8K8w",
        "outputId": "60443ccd-cc8c-4f88-ff5c-1f44e63610da"
      },
      "execution_count": 33,
      "outputs": [
        {
          "output_type": "stream",
          "name": "stdout",
          "text": [
            "+----------+--------------------+---------+--------+---------+--------------+----------+--------------------+----------------+------------------------+-------------------------+-------------------------+-------------------------+-------------------------+--------------------------+--------------------------+----------------------+---------------+-------------------+-------------------+---------------------+----------------------+--------------------+----------------------+-------------------+----------------------+------------------------------+------------------------------+------------------------------+------------------------------------------+----------------------------+-------------------------------+------------------------------+----------------------+----------------------+------------+-----------+------------------+-------------+--------------+---------------------------+----------------------------+---------------------+------------------+-----------------+-----------------------+---------------------------+---------------------------------+------------------------------+-----------+--------------------+\n",
            "|   STATION|        STATION_NAME|ELEVATION|LATITUDE|LONGITUDE|          DATE|reportType| HourlySkyConditions|HourlyVisibility|HourlyPresentWeatherType|HourlyDryBulbTemperatureF|HourlyDryBulbTemperatureC|HourlyWetBulbTemperatureF|HourlyWetBulbTemperatureC|HourlyDewPointTemperatureF|HourlyDewPointTemperatureC|HourlyRelativeHumidity|HourlyWindSpeed|HourlyWindDirection|HourlyWindGustSpeed|HourlyStationPressure|HourlyPressureTendency|HourlyPressureChange|HourlySeaLevelPressure|HourlyPrecipitation|HourlyAltimeterSetting|DailyMaximumDryBulbTemperature|DailyMinimumDryBulbTemperature|DailyAverageDryBulbTemperature|DailyDepartureFromNormalAverageTemperature|DailyAverageRelativeHumidity|DailyAverageDewPointTemperature|DailyAverageWetBulbTemperature|DailyHeatingDegreeDays|DailyCoolingDegreeDays|DailySunrise|DailySunset|DailyPrecipitation|DailySnowfall|DailySnowDepth|DailyAverageStationPressure|DailyAverageSeaLevelPressure|DailyAverageWindSpeed|DailyPeakWindSpeed|PeakWindDirection|DailySustainedWindSpeed|DailySustainedWindDirection|HourlyDryBulbTemperatureF_imputed|HourlyRelativeHumidity_imputed|   features|      scaledFeatures|\n",
            "+----------+--------------------+---------+--------+---------+--------------+----------+--------------------+----------------+------------------------+-------------------------+-------------------------+-------------------------+-------------------------+--------------------------+--------------------------+----------------------+---------------+-------------------+-------------------+---------------------+----------------------+--------------------+----------------------+-------------------+----------------------+------------------------------+------------------------------+------------------------------+------------------------------------------+----------------------------+-------------------------------+------------------------------+----------------------+----------------------+------------+-----------+------------------+-------------+--------------+---------------------------+----------------------------+---------------------+------------------+-----------------+-----------------------+---------------------------+---------------------------------+------------------------------+-----------+--------------------+\n",
            "|WBAN:94846|CHICAGO OHARE INT...|    201.8|  41.995| -87.9336| 3/1/2014 0:51|     FM-15| SCT:04 70 OVC:08 90|            10.0|                    NULL|                       30|                     -1.1|                       26|                     -3.4|                        16|                      -8.9|                    56|              9|                330|               NULL|                29.28|                  NULL|                NULL|                 30.02|               NULL|                  30.0|                          NULL|                          NULL|                          NULL|                                      NULL|                        NULL|                           NULL|                          NULL|                  NULL|                  NULL|        1227|       2342|              NULL|         NULL|          NULL|                       NULL|                        NULL|                 NULL|              NULL|             NULL|                   NULL|                       NULL|                               30|                            56|[30.0,56.0]|[2.23371029645129...|\n",
            "|WBAN:94846|CHICAGO OHARE INT...|    201.8|  41.995| -87.9336| 3/1/2014 1:51|     FM-15|           OVC:08 50|            10.0|                    NULL|                       30|                     -1.1|                       26|                     -3.3|                        17|                      -8.3|                    58|              0|                  0|               NULL|                29.27|                  NULL|                NULL|                 30.02|               NULL|                 29.99|                          NULL|                          NULL|                          NULL|                                      NULL|                        NULL|                           NULL|                          NULL|                  NULL|                  NULL|        1227|       2342|              NULL|         NULL|          NULL|                       NULL|                        NULL|                 NULL|              NULL|             NULL|                   NULL|                       NULL|                               30|                            58|[30.0,58.0]|[2.23371029645129...|\n",
            "|WBAN:94846|CHICAGO OHARE INT...|    201.8|  41.995| -87.9336| 3/1/2014 2:51|     FM-15|           OVC:08 29|             6.0|         -SN:03 |SN:71 ||                       29|                     -1.7|                       26|                     -3.2|                        21|                      -6.1|                    72|              8|                330|               NULL|                29.28|                     1|               -0.03|                 30.02|              0.01s|                  30.0|                          NULL|                          NULL|                          NULL|                                      NULL|                        NULL|                           NULL|                          NULL|                  NULL|                  NULL|        1227|       2342|              NULL|         NULL|          NULL|                       NULL|                        NULL|                 NULL|              NULL|             NULL|                   NULL|                       NULL|                               29|                            72|[29.0,72.0]|[2.15925328656958...|\n",
            "|WBAN:94846|CHICAGO OHARE INT...|    201.8|  41.995| -87.9336| 3/1/2014 3:51|     FM-15|             VV:09 9|            0.75|         -SN:03 |SN:71 ||                       28|                     -2.2|                       26|                     -3.3|                        23|                      -5.0|                    81|              0|                  0|               NULL|                29.29|                  NULL|                NULL|                 30.04|               0.03|                 30.01|                          NULL|                          NULL|                          NULL|                                      NULL|                        NULL|                           NULL|                          NULL|                  NULL|                  NULL|        1227|       2342|              NULL|         NULL|          NULL|                       NULL|                        NULL|                 NULL|              NULL|             NULL|                   NULL|                       NULL|                               28|                            81|[28.0,81.0]|[2.08479627668787...|\n",
            "|WBAN:94846|CHICAGO OHARE INT...|    201.8|  41.995| -87.9336| 3/1/2014 4:51|     FM-15|            OVC:08 8|            10.0|                    NULL|                       26|                     -3.3|                       24|                     -4.5|                        20|                      -6.7|                    78|             11|                350|               NULL|                29.32|                  NULL|                NULL|                 30.06|               0.01|                 30.04|                          NULL|                          NULL|                          NULL|                                      NULL|                        NULL|                           NULL|                          NULL|                  NULL|                  NULL|        1227|       2342|              NULL|         NULL|          NULL|                       NULL|                        NULL|                 NULL|              NULL|             NULL|                   NULL|                       NULL|                               26|                            78|[26.0,78.0]|[1.93588225692445...|\n",
            "|WBAN:94846|CHICAGO OHARE INT...|    201.8|  41.995| -87.9336| 3/1/2014 5:51|     FM-15| BKN:07 10 OVC:08 20|            10.0|                    NULL|                       25|                     -3.9|                       22|                     -5.3|                        17|                      -8.3|                    72|             11|                360|               NULL|                29.35|                     3|               -0.07|                 30.09|               NULL|                 30.07|                          NULL|                          NULL|                          NULL|                                      NULL|                        NULL|                           NULL|                          NULL|                  NULL|                  NULL|        1227|       2342|              0.06|         NULL|             3|                       NULL|                        NULL|                 NULL|              NULL|             NULL|                   NULL|                       NULL|                               25|                            72|[25.0,72.0]|[1.86142524704274...|\n",
            "|WBAN:94846|CHICAGO OHARE INT...|    201.8|  41.995| -87.9336| 3/1/2014 6:51|     FM-15| BKN:07 12 OVC:08 20|             5.0|      HZ:7 |FU:05 |HZ:05|                       23|                     -5.0|                       21|                     -6.4|                        15|                      -9.4|                    72|              7|                360|               NULL|                29.37|                  NULL|                NULL|                 30.12|               NULL|                 30.09|                          NULL|                          NULL|                          NULL|                                      NULL|                        NULL|                           NULL|                          NULL|                  NULL|                  NULL|        1227|       2342|              NULL|         NULL|          NULL|                       NULL|                        NULL|                 NULL|              NULL|             NULL|                   NULL|                       NULL|                               23|                            72|[23.0,72.0]|[1.71251122727932...|\n",
            "|WBAN:94846|CHICAGO OHARE INT...|    201.8|  41.995| -87.9336| 3/1/2014 7:51|     FM-15| BKN:07 14 OVC:08 25|            10.0|                    NULL|                       21|                     -6.1|                       18|                     -7.5|                        12|                     -11.1|                    68|             11|                360|               NULL|                29.42|                  NULL|                NULL|                 30.17|               NULL|                 30.14|                          NULL|                          NULL|                          NULL|                                      NULL|                        NULL|                           NULL|                          NULL|                  NULL|                  NULL|        1227|       2342|              NULL|         NULL|          NULL|                       NULL|                        NULL|                 NULL|              NULL|             NULL|                   NULL|                       NULL|                               21|                            68|[21.0,68.0]|[1.56359720751590...|\n",
            "|WBAN:94846|CHICAGO OHARE INT...|    201.8|  41.995| -87.9336| 3/1/2014 8:51|     FM-15|           OVC:08 27|             9.0|                    NULL|                       21|                     -6.1|                       18|                     -7.6|                        11|                     -11.7|                    65|              9|                360|               NULL|                29.45|                     2|               -0.09|                 30.19|               NULL|                 30.17|                          NULL|                          NULL|                          NULL|                                      NULL|                        NULL|                           NULL|                          NULL|                  NULL|                  NULL|        1227|       2342|              NULL|         NULL|          NULL|                       NULL|                        NULL|                 NULL|              NULL|             NULL|                   NULL|                       NULL|                               21|                            65|[21.0,65.0]|[1.56359720751590...|\n",
            "|WBAN:94846|CHICAGO OHARE INT...|    201.8|  41.995| -87.9336| 3/1/2014 9:51|     FM-15| SCT:04 27 OVC:08 35|            10.0|                    NULL|                       21|                     -6.1|                       18|                     -7.7|                        10|                     -12.2|                    62|              9|                360|               NULL|                29.46|                  NULL|                NULL|                 30.21|               NULL|                 30.18|                          NULL|                          NULL|                          NULL|                                      NULL|                        NULL|                           NULL|                          NULL|                  NULL|                  NULL|        1227|       2342|              NULL|         NULL|          NULL|                       NULL|                        NULL|                 NULL|              NULL|             NULL|                   NULL|                       NULL|                               21|                            62|[21.0,62.0]|[1.56359720751590...|\n",
            "|WBAN:94846|CHICAGO OHARE INT...|    201.8|  41.995| -87.9336|3/1/2014 10:51|     FM-15|BKN:07 35 OVC:08 150|            10.0|                    NULL|                       21|                     -6.1|                       18|                     -7.8|                         9|                     -12.8|                    59|             11|                340|               NULL|                29.49|                  NULL|                NULL|                 30.24|               NULL|                 30.21|                          NULL|                          NULL|                          NULL|                                      NULL|                        NULL|                           NULL|                          NULL|                  NULL|                  NULL|        1227|       2342|              NULL|         NULL|          NULL|                       NULL|                        NULL|                 NULL|              NULL|             NULL|                   NULL|                       NULL|                               21|                            59|[21.0,59.0]|[1.56359720751590...|\n",
            "|WBAN:94846|CHICAGO OHARE INT...|    201.8|  41.995| -87.9336|3/1/2014 11:51|     FM-15|SCT:04 45 BKN:07 ...|            10.0|                    NULL|                       21|                     -6.1|                       18|                     -8.0|                         7|                     -13.9|                    54|              9|                360|               NULL|                29.49|                     1|               -0.04|                 30.24|                  T|                 30.21|                          NULL|                          NULL|                          NULL|                                      NULL|                        NULL|                           NULL|                          NULL|                  NULL|                  NULL|        1227|       2342|              NULL|         NULL|             3|                       NULL|                        NULL|                 NULL|              NULL|             NULL|                   NULL|                       NULL|                               21|                            54|[21.0,54.0]|[1.56359720751590...|\n",
            "|WBAN:94846|CHICAGO OHARE INT...|    201.8|  41.995| -87.9336|3/1/2014 12:51|     FM-15|BKN:07 45 BKN:07 100|            10.0|                    NULL|                       22|                     -5.6|                       18|                     -7.6|                         6|                     -14.4|                    50|             10|                340|               NULL|                 29.5|                  NULL|                NULL|                 30.25|                  T|                 30.22|                          NULL|                          NULL|                          NULL|                                      NULL|                        NULL|                           NULL|                          NULL|                  NULL|                  NULL|        1227|       2342|              NULL|         NULL|          NULL|                       NULL|                        NULL|                 NULL|              NULL|             NULL|                   NULL|                       NULL|                               22|                            50|[22.0,50.0]|[1.63805421739761...|\n",
            "|WBAN:94846|CHICAGO OHARE INT...|    201.8|  41.995| -87.9336|3/1/2014 13:51|     FM-15|BKN:07 55 BKN:07 ...|            10.0|                    NULL|                       22|                     -5.6|                       19|                     -7.5|                         8|                     -13.3|                    55|              8|                 10|               NULL|                29.47|                  NULL|                NULL|                 30.22|               NULL|                 30.19|                          NULL|                          NULL|                          NULL|                                      NULL|                        NULL|                           NULL|                          NULL|                  NULL|                  NULL|        1227|       2342|              NULL|         NULL|          NULL|                       NULL|                        NULL|                 NULL|              NULL|             NULL|                   NULL|                       NULL|                               22|                            55|[22.0,55.0]|[1.63805421739761...|\n",
            "|WBAN:94846|CHICAGO OHARE INT...|    201.8|  41.995| -87.9336|3/1/2014 14:51|     FM-15|FEW:02 25 BKN:07 ...|            10.0|         -SN:03 |SN:71 ||                       20|                     -6.7|                       17|                     -8.2|                        10|                     -12.2|                    65|             13|                350|               NULL|                29.51|                     3|               -0.01|                 30.26|                  T|                 30.23|                          NULL|                          NULL|                          NULL|                                      NULL|                        NULL|                           NULL|                          NULL|                  NULL|                  NULL|        1227|       2342|              NULL|         NULL|          NULL|                       NULL|                        NULL|                 NULL|              NULL|             NULL|                   NULL|                       NULL|                               20|                            65|[20.0,65.0]|[1.48914019763419...|\n",
            "|WBAN:94846|CHICAGO OHARE INT...|    201.8|  41.995| -87.9336|3/1/2014 15:51|     FM-15| BKN:07 18 OVC:08 50|             6.0|         -SN:03 |SN:71 ||                       18|                     -7.8|                       16|                     -9.1|                         9|                     -12.8|                    68|             14|                360|               NULL|                 29.5|                  NULL|                NULL|                 30.25|                  T|                 30.22|                          NULL|                          NULL|                          NULL|                                      NULL|                        NULL|                           NULL|                          NULL|                  NULL|                  NULL|        1227|       2342|              NULL|         NULL|          NULL|                       NULL|                        NULL|                 NULL|              NULL|             NULL|                   NULL|                       NULL|                               18|                            68|[18.0,68.0]|[1.34022617787077...|\n",
            "|WBAN:94846|CHICAGO OHARE INT...|    201.8|  41.995| -87.9336|3/1/2014 16:51|     FM-15|SCT:04 12 BKN:07 ...|             5.0|         -SN:03 |SN:71 ||                       16|                     -8.9|                       14|                     -9.9|                         9|                     -12.8|                    74|              9|                360|               NULL|                29.53|                  NULL|                NULL|                 30.29|               0.03|                 30.25|                          NULL|                          NULL|                          NULL|                                      NULL|                        NULL|                           NULL|                          NULL|                  NULL|                  NULL|        1227|       2342|              NULL|         NULL|          NULL|                       NULL|                        NULL|                 NULL|              NULL|             NULL|                   NULL|                       NULL|                               16|                            74|[16.0,74.0]|[1.19131215810735...|\n",
            "|WBAN:94846|CHICAGO OHARE INT...|    201.8|  41.995| -87.9336|3/1/2014 17:51|     FM-15|            VV:09 10|             0.5|        SN:03 |SN:72 s ||                       15|                     -9.4|                       13|                    -10.5|                         8|                     -13.3|                    74|              9|                 10|               NULL|                29.54|                     0|               -0.01|                  30.3|          0.060.05s|                 30.26|                          NULL|                          NULL|                          NULL|                                      NULL|                        NULL|                           NULL|                          NULL|                  NULL|                  NULL|        1227|       2342|              NULL|         NULL|             3|                       NULL|                        NULL|                 NULL|              NULL|             NULL|                   NULL|                       NULL|                               15|                            74|[15.0,74.0]|[1.11685514822564...|\n",
            "|WBAN:94846|CHICAGO OHARE INT...|    201.8|  41.995| -87.9336|3/1/2014 18:51|     FM-15|            VV:09 11|             1.0|         -SN:03 |SN:71 ||                       14|                    -10.0|                       12|                    -10.9|                         8|                     -13.3|                    77|              9|                350|               NULL|                29.56|                  NULL|                NULL|                 30.32|               0.04|                 30.28|                          NULL|                          NULL|                          NULL|                                      NULL|                        NULL|                           NULL|                          NULL|                  NULL|                  NULL|        1226|       2343|              NULL|         NULL|          NULL|                       NULL|                        NULL|                 NULL|              NULL|             NULL|                   NULL|                       NULL|                               14|                            77|[14.0,77.0]|[1.04239813834393...|\n",
            "|WBAN:94846|CHICAGO OHARE INT...|    201.8|  41.995| -87.9336|3/1/2014 19:51|     FM-15|           OVC:08 17|             1.5|         -SN:03 |SN:71 ||                       13|                    -10.6|                       11|                    -11.5|                         6|                     -14.4|                    74|              9|                360|               NULL|                29.56|                  NULL|                NULL|                 30.32|               0.03|                 30.28|                          NULL|                          NULL|                          NULL|                                      NULL|                        NULL|                           NULL|                          NULL|                  NULL|                  NULL|        1226|       2343|              NULL|         NULL|          NULL|                       NULL|                        NULL|                 NULL|              NULL|             NULL|                   NULL|                       NULL|                               13|                            74|[13.0,74.0]|[0.96794112846222...|\n",
            "+----------+--------------------+---------+--------+---------+--------------+----------+--------------------+----------------+------------------------+-------------------------+-------------------------+-------------------------+-------------------------+--------------------------+--------------------------+----------------------+---------------+-------------------+-------------------+---------------------+----------------------+--------------------+----------------------+-------------------+----------------------+------------------------------+------------------------------+------------------------------+------------------------------------------+----------------------------+-------------------------------+------------------------------+----------------------+----------------------+------------+-----------+------------------+-------------+--------------+---------------------------+----------------------------+---------------------+------------------+-----------------+-----------------------+---------------------------+---------------------------------+------------------------------+-----------+--------------------+\n",
            "only showing top 20 rows\n",
            "\n"
          ]
        }
      ]
    }
  ]
}