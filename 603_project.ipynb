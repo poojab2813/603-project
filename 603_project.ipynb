{
  "nbformat": 4,
  "nbformat_minor": 0,
  "metadata": {
    "colab": {
      "provenance": []
    },
    "kernelspec": {
      "name": "python3",
      "display_name": "Python 3"
    },
    "language_info": {
      "name": "python"
    }
  },
  "cells": [
    {
      "cell_type": "markdown",
      "source": [
        "## Install and Setup a Spark session."
      ],
      "metadata": {
        "id": "yw8zSquEcVOi"
      }
    },
    {
      "cell_type": "code",
      "source": [
        "!pip install pyspark"
      ],
      "metadata": {
        "colab": {
          "base_uri": "https://localhost:8080/"
        },
        "id": "4uTFLEyvjupR",
        "outputId": "46690c2d-296c-4ac3-d6de-45b230bd170a"
      },
      "execution_count": 1,
      "outputs": [
        {
          "output_type": "stream",
          "name": "stdout",
          "text": [
            "Collecting pyspark\n",
            "  Downloading pyspark-3.5.1.tar.gz (317.0 MB)\n",
            "\u001b[2K     \u001b[90m━━━━━━━━━━━━━━━━━━━━━━━━━━━━━━━━━━━━━━━━\u001b[0m \u001b[32m317.0/317.0 MB\u001b[0m \u001b[31m4.6 MB/s\u001b[0m eta \u001b[36m0:00:00\u001b[0m\n",
            "\u001b[?25h  Preparing metadata (setup.py) ... \u001b[?25l\u001b[?25hdone\n",
            "Requirement already satisfied: py4j==0.10.9.7 in /usr/local/lib/python3.10/dist-packages (from pyspark) (0.10.9.7)\n",
            "Building wheels for collected packages: pyspark\n",
            "  Building wheel for pyspark (setup.py) ... \u001b[?25l\u001b[?25hdone\n",
            "  Created wheel for pyspark: filename=pyspark-3.5.1-py2.py3-none-any.whl size=317488491 sha256=daf0a3f88c77cc2a6fadc61d78ac976ce4550c8faaf4737eb139b3429641eb18\n",
            "  Stored in directory: /root/.cache/pip/wheels/80/1d/60/2c256ed38dddce2fdd93be545214a63e02fbd8d74fb0b7f3a6\n",
            "Successfully built pyspark\n",
            "Installing collected packages: pyspark\n",
            "Successfully installed pyspark-3.5.1\n"
          ]
        }
      ]
    },
    {
      "cell_type": "code",
      "source": [
        "from pyspark.sql import SparkSession\n",
        "spark = SparkSession.builder.master(\"local[*]\").appName(\"Weather Analysis\").getOrCreate()"
      ],
      "metadata": {
        "id": "3dsx08kwkC5E"
      },
      "execution_count": 2,
      "outputs": []
    },
    {
      "cell_type": "markdown",
      "source": [
        "## <b>1 <span style='color:#0386f7de'>|</span> Reading and Understanding the Datasets</b>"
      ],
      "metadata": {
        "id": "is3pcULgjvKY"
      }
    },
    {
      "cell_type": "code",
      "source": [
        "df_weather = spark.read.csv('LCD_sample.csv', header=True, inferSchema=True)\n",
        "df_weather.show(5)\n"
      ],
      "metadata": {
        "colab": {
          "base_uri": "https://localhost:8080/"
        },
        "id": "I_2eY4cSjvcD",
        "outputId": "b2323f58-e3d8-413b-a180-b8db72b5cbf3"
      },
      "execution_count": 3,
      "outputs": [
        {
          "output_type": "stream",
          "name": "stdout",
          "text": [
            "+----------+--------------------+---------+--------+---------+-------------+----------+-------------------+----------------+------------------------+-------------------------+-------------------------+-------------------------+-------------------------+--------------------------+--------------------------+----------------------+---------------+-------------------+-------------------+---------------------+----------------------+--------------------+----------------------+-------------------+----------------------+------------------------------+------------------------------+------------------------------+------------------------------------------+----------------------------+-------------------------------+------------------------------+----------------------+----------------------+------------+-----------+------------------+-------------+--------------+---------------------------+----------------------------+---------------------+------------------+-----------------+-----------------------+---------------------------+\n",
            "|   STATION|        STATION_NAME|ELEVATION|LATITUDE|LONGITUDE|         DATE|reportType|HourlySkyConditions|HourlyVisibility|HourlyPresentWeatherType|HourlyDryBulbTemperatureF|HourlyDryBulbTemperatureC|HourlyWetBulbTemperatureF|HourlyWetBulbTemperatureC|HourlyDewPointTemperatureF|HourlyDewPointTemperatureC|HourlyRelativeHumidity|HourlyWindSpeed|HourlyWindDirection|HourlyWindGustSpeed|HourlyStationPressure|HourlyPressureTendency|HourlyPressureChange|HourlySeaLevelPressure|HourlyPrecipitation|HourlyAltimeterSetting|DailyMaximumDryBulbTemperature|DailyMinimumDryBulbTemperature|DailyAverageDryBulbTemperature|DailyDepartureFromNormalAverageTemperature|DailyAverageRelativeHumidity|DailyAverageDewPointTemperature|DailyAverageWetBulbTemperature|DailyHeatingDegreeDays|DailyCoolingDegreeDays|DailySunrise|DailySunset|DailyPrecipitation|DailySnowfall|DailySnowDepth|DailyAverageStationPressure|DailyAverageSeaLevelPressure|DailyAverageWindSpeed|DailyPeakWindSpeed|PeakWindDirection|DailySustainedWindSpeed|DailySustainedWindDirection|\n",
            "+----------+--------------------+---------+--------+---------+-------------+----------+-------------------+----------------+------------------------+-------------------------+-------------------------+-------------------------+-------------------------+--------------------------+--------------------------+----------------------+---------------+-------------------+-------------------+---------------------+----------------------+--------------------+----------------------+-------------------+----------------------+------------------------------+------------------------------+------------------------------+------------------------------------------+----------------------------+-------------------------------+------------------------------+----------------------+----------------------+------------+-----------+------------------+-------------+--------------+---------------------------+----------------------------+---------------------+------------------+-----------------+-----------------------+---------------------------+\n",
            "|WBAN:94846|CHICAGO OHARE INT...|    201.8|  41.995| -87.9336|3/1/2014 0:51|     FM-15|SCT:04 70 OVC:08 90|            10.0|                    NULL|                       30|                     -1.1|                       26|                     -3.4|                        16|                      -8.9|                    56|              9|                330|               NULL|                29.28|                  NULL|                NULL|                 30.02|               NULL|                  30.0|                          NULL|                          NULL|                          NULL|                                      NULL|                        NULL|                           NULL|                          NULL|                  NULL|                  NULL|        1227|       2342|              NULL|         NULL|          NULL|                       NULL|                        NULL|                 NULL|              NULL|             NULL|                   NULL|                       NULL|\n",
            "|WBAN:94846|CHICAGO OHARE INT...|    201.8|  41.995| -87.9336|3/1/2014 1:51|     FM-15|          OVC:08 50|            10.0|                    NULL|                       30|                     -1.1|                       26|                     -3.3|                        17|                      -8.3|                    58|              0|                  0|               NULL|                29.27|                  NULL|                NULL|                 30.02|               NULL|                 29.99|                          NULL|                          NULL|                          NULL|                                      NULL|                        NULL|                           NULL|                          NULL|                  NULL|                  NULL|        1227|       2342|              NULL|         NULL|          NULL|                       NULL|                        NULL|                 NULL|              NULL|             NULL|                   NULL|                       NULL|\n",
            "|WBAN:94846|CHICAGO OHARE INT...|    201.8|  41.995| -87.9336|3/1/2014 2:51|     FM-15|          OVC:08 29|             6.0|         -SN:03 |SN:71 ||                       29|                     -1.7|                       26|                     -3.2|                        21|                      -6.1|                    72|              8|                330|               NULL|                29.28|                     1|               -0.03|                 30.02|              0.01s|                  30.0|                          NULL|                          NULL|                          NULL|                                      NULL|                        NULL|                           NULL|                          NULL|                  NULL|                  NULL|        1227|       2342|              NULL|         NULL|          NULL|                       NULL|                        NULL|                 NULL|              NULL|             NULL|                   NULL|                       NULL|\n",
            "|WBAN:94846|CHICAGO OHARE INT...|    201.8|  41.995| -87.9336|3/1/2014 3:51|     FM-15|            VV:09 9|            0.75|         -SN:03 |SN:71 ||                       28|                     -2.2|                       26|                     -3.3|                        23|                      -5.0|                    81|              0|                  0|               NULL|                29.29|                  NULL|                NULL|                 30.04|               0.03|                 30.01|                          NULL|                          NULL|                          NULL|                                      NULL|                        NULL|                           NULL|                          NULL|                  NULL|                  NULL|        1227|       2342|              NULL|         NULL|          NULL|                       NULL|                        NULL|                 NULL|              NULL|             NULL|                   NULL|                       NULL|\n",
            "|WBAN:94846|CHICAGO OHARE INT...|    201.8|  41.995| -87.9336|3/1/2014 4:51|     FM-15|           OVC:08 8|            10.0|                    NULL|                       26|                     -3.3|                       24|                     -4.5|                        20|                      -6.7|                    78|             11|                350|               NULL|                29.32|                  NULL|                NULL|                 30.06|               0.01|                 30.04|                          NULL|                          NULL|                          NULL|                                      NULL|                        NULL|                           NULL|                          NULL|                  NULL|                  NULL|        1227|       2342|              NULL|         NULL|          NULL|                       NULL|                        NULL|                 NULL|              NULL|             NULL|                   NULL|                       NULL|\n",
            "+----------+--------------------+---------+--------+---------+-------------+----------+-------------------+----------------+------------------------+-------------------------+-------------------------+-------------------------+-------------------------+--------------------------+--------------------------+----------------------+---------------+-------------------+-------------------+---------------------+----------------------+--------------------+----------------------+-------------------+----------------------+------------------------------+------------------------------+------------------------------+------------------------------------------+----------------------------+-------------------------------+------------------------------+----------------------+----------------------+------------+-----------+------------------+-------------+--------------+---------------------------+----------------------------+---------------------+------------------+-----------------+-----------------------+---------------------------+\n",
            "only showing top 5 rows\n",
            "\n"
          ]
        }
      ]
    },
    {
      "cell_type": "markdown",
      "source": [
        "## <b>2 <span style='color:#0386f7de'>|</span> Data Cleaning</b>"
      ],
      "metadata": {
        "id": "fY8Neg9ndsOs"
      }
    },
    {
      "cell_type": "code",
      "source": [
        "df_weather.count()"
      ],
      "metadata": {
        "colab": {
          "base_uri": "https://localhost:8080/"
        },
        "id": "Om5rMLeD0wWp",
        "outputId": "1bf0dfcf-190e-4313-dc83-dfaf96843650"
      },
      "execution_count": 4,
      "outputs": [
        {
          "output_type": "execute_result",
          "data": {
            "text/plain": [
              "772"
            ]
          },
          "metadata": {},
          "execution_count": 4
        }
      ]
    },
    {
      "cell_type": "markdown",
      "source": [
        "**Indeed non-null and non-NaN values**"
      ],
      "metadata": {
        "id": "cVkFzqb38592"
      }
    },
    {
      "cell_type": "code",
      "source": [
        "from pyspark.sql.functions import isnan, when, count, col\n",
        "\n",
        "# Count non-NaN values for each field\n",
        "df_weather.select([count(when(~isnan(c) & ~col(c).isNull(), c)).alias(c) for c in [\"HourlyDryBulbTemperatureF\", \"HourlyRelativeHumidity\"]]).show()\n"
      ],
      "metadata": {
        "colab": {
          "base_uri": "https://localhost:8080/"
        },
        "id": "4iwGTkIj1Z10",
        "outputId": "8d2b3182-ca3a-4903-946e-aa5a6a9ec263"
      },
      "execution_count": 5,
      "outputs": [
        {
          "output_type": "stream",
          "name": "stdout",
          "text": [
            "+-------------------------+----------------------+\n",
            "|HourlyDryBulbTemperatureF|HourlyRelativeHumidity|\n",
            "+-------------------------+----------------------+\n",
            "|                      742|                   742|\n",
            "+-------------------------+----------------------+\n",
            "\n"
          ]
        }
      ]
    },
    {
      "cell_type": "markdown",
      "source": [
        "**Check for Empty Strings**"
      ],
      "metadata": {
        "id": "sd9tV0YK8_Ht"
      }
    },
    {
      "cell_type": "code",
      "source": [
        "# Replace empty strings with nulls in specified columns and display the DataFrame\n",
        "df = df_weather \\\n",
        "    .withColumn(\"HourlyDryBulbTemperatureF\", when(col(\"HourlyDryBulbTemperatureF\") == \"\", None).otherwise(col(\"HourlyDryBulbTemperatureF\"))) \\\n",
        "    .withColumn(\"HourlyRelativeHumidity\", when(col(\"HourlyRelativeHumidity\") == \"\", None).otherwise(col(\"HourlyRelativeHumidity\")))\n",
        "\n",
        "# Show the DataFrame in an organized manner\n",
        "df.show(truncate=False, n=5)\n",
        "\n"
      ],
      "metadata": {
        "id": "U0QrfmMs1a3r",
        "colab": {
          "base_uri": "https://localhost:8080/"
        },
        "outputId": "d32e2821-fd13-4749-dd09-a46bb2711243"
      },
      "execution_count": 6,
      "outputs": [
        {
          "output_type": "stream",
          "name": "stdout",
          "text": [
            "+----------+-----------------------------------------+---------+--------+---------+-------------+----------+-------------------+----------------+------------------------+-------------------------+-------------------------+-------------------------+-------------------------+--------------------------+--------------------------+----------------------+---------------+-------------------+-------------------+---------------------+----------------------+--------------------+----------------------+-------------------+----------------------+------------------------------+------------------------------+------------------------------+------------------------------------------+----------------------------+-------------------------------+------------------------------+----------------------+----------------------+------------+-----------+------------------+-------------+--------------+---------------------------+----------------------------+---------------------+------------------+-----------------+-----------------------+---------------------------+\n",
            "|STATION   |STATION_NAME                             |ELEVATION|LATITUDE|LONGITUDE|DATE         |reportType|HourlySkyConditions|HourlyVisibility|HourlyPresentWeatherType|HourlyDryBulbTemperatureF|HourlyDryBulbTemperatureC|HourlyWetBulbTemperatureF|HourlyWetBulbTemperatureC|HourlyDewPointTemperatureF|HourlyDewPointTemperatureC|HourlyRelativeHumidity|HourlyWindSpeed|HourlyWindDirection|HourlyWindGustSpeed|HourlyStationPressure|HourlyPressureTendency|HourlyPressureChange|HourlySeaLevelPressure|HourlyPrecipitation|HourlyAltimeterSetting|DailyMaximumDryBulbTemperature|DailyMinimumDryBulbTemperature|DailyAverageDryBulbTemperature|DailyDepartureFromNormalAverageTemperature|DailyAverageRelativeHumidity|DailyAverageDewPointTemperature|DailyAverageWetBulbTemperature|DailyHeatingDegreeDays|DailyCoolingDegreeDays|DailySunrise|DailySunset|DailyPrecipitation|DailySnowfall|DailySnowDepth|DailyAverageStationPressure|DailyAverageSeaLevelPressure|DailyAverageWindSpeed|DailyPeakWindSpeed|PeakWindDirection|DailySustainedWindSpeed|DailySustainedWindDirection|\n",
            "+----------+-----------------------------------------+---------+--------+---------+-------------+----------+-------------------+----------------+------------------------+-------------------------+-------------------------+-------------------------+-------------------------+--------------------------+--------------------------+----------------------+---------------+-------------------+-------------------+---------------------+----------------------+--------------------+----------------------+-------------------+----------------------+------------------------------+------------------------------+------------------------------+------------------------------------------+----------------------------+-------------------------------+------------------------------+----------------------+----------------------+------------+-----------+------------------+-------------+--------------+---------------------------+----------------------------+---------------------+------------------+-----------------+-----------------------+---------------------------+\n",
            "|WBAN:94846|CHICAGO OHARE INTERNATIONAL AIRPORT IL US|201.8    |41.995  |-87.9336 |3/1/2014 0:51|FM-15     |SCT:04 70 OVC:08 90|10.0            |NULL                    |30                       |-1.1                     |26                       |-3.4                     |16                        |-8.9                      |56                    |9              |330                |NULL               |29.28                |NULL                  |NULL                |30.02                 |NULL               |30.0                  |NULL                          |NULL                          |NULL                          |NULL                                      |NULL                        |NULL                           |NULL                          |NULL                  |NULL                  |1227        |2342       |NULL              |NULL         |NULL          |NULL                       |NULL                        |NULL                 |NULL              |NULL             |NULL                   |NULL                       |\n",
            "|WBAN:94846|CHICAGO OHARE INTERNATIONAL AIRPORT IL US|201.8    |41.995  |-87.9336 |3/1/2014 1:51|FM-15     |OVC:08 50          |10.0            |NULL                    |30                       |-1.1                     |26                       |-3.3                     |17                        |-8.3                      |58                    |0              |0                  |NULL               |29.27                |NULL                  |NULL                |30.02                 |NULL               |29.99                 |NULL                          |NULL                          |NULL                          |NULL                                      |NULL                        |NULL                           |NULL                          |NULL                  |NULL                  |1227        |2342       |NULL              |NULL         |NULL          |NULL                       |NULL                        |NULL                 |NULL              |NULL             |NULL                   |NULL                       |\n",
            "|WBAN:94846|CHICAGO OHARE INTERNATIONAL AIRPORT IL US|201.8    |41.995  |-87.9336 |3/1/2014 2:51|FM-15     |OVC:08 29          |6.0             |-SN:03 |SN:71 |         |29                       |-1.7                     |26                       |-3.2                     |21                        |-6.1                      |72                    |8              |330                |NULL               |29.28                |1                     |-0.03               |30.02                 |0.01s              |30.0                  |NULL                          |NULL                          |NULL                          |NULL                                      |NULL                        |NULL                           |NULL                          |NULL                  |NULL                  |1227        |2342       |NULL              |NULL         |NULL          |NULL                       |NULL                        |NULL                 |NULL              |NULL             |NULL                   |NULL                       |\n",
            "|WBAN:94846|CHICAGO OHARE INTERNATIONAL AIRPORT IL US|201.8    |41.995  |-87.9336 |3/1/2014 3:51|FM-15     |VV:09 9            |0.75            |-SN:03 |SN:71 |         |28                       |-2.2                     |26                       |-3.3                     |23                        |-5.0                      |81                    |0              |0                  |NULL               |29.29                |NULL                  |NULL                |30.04                 |0.03               |30.01                 |NULL                          |NULL                          |NULL                          |NULL                                      |NULL                        |NULL                           |NULL                          |NULL                  |NULL                  |1227        |2342       |NULL              |NULL         |NULL          |NULL                       |NULL                        |NULL                 |NULL              |NULL             |NULL                   |NULL                       |\n",
            "|WBAN:94846|CHICAGO OHARE INTERNATIONAL AIRPORT IL US|201.8    |41.995  |-87.9336 |3/1/2014 4:51|FM-15     |OVC:08 8           |10.0            |NULL                    |26                       |-3.3                     |24                       |-4.5                     |20                        |-6.7                      |78                    |11             |350                |NULL               |29.32                |NULL                  |NULL                |30.06                 |0.01               |30.04                 |NULL                          |NULL                          |NULL                          |NULL                                      |NULL                        |NULL                           |NULL                          |NULL                  |NULL                  |1227        |2342       |NULL              |NULL         |NULL          |NULL                       |NULL                        |NULL                 |NULL              |NULL             |NULL                   |NULL                       |\n",
            "+----------+-----------------------------------------+---------+--------+---------+-------------+----------+-------------------+----------------+------------------------+-------------------------+-------------------------+-------------------------+-------------------------+--------------------------+--------------------------+----------------------+---------------+-------------------+-------------------+---------------------+----------------------+--------------------+----------------------+-------------------+----------------------+------------------------------+------------------------------+------------------------------+------------------------------------------+----------------------------+-------------------------------+------------------------------+----------------------+----------------------+------------+-----------+------------------+-------------+--------------+---------------------------+----------------------------+---------------------+------------------+-----------------+-----------------------+---------------------------+\n",
            "only showing top 5 rows\n",
            "\n"
          ]
        }
      ]
    },
    {
      "cell_type": "markdown",
      "source": [
        "**Fill Missing Values**"
      ],
      "metadata": {
        "id": "NPA8VQ3-9F-o"
      }
    },
    {
      "cell_type": "code",
      "source": [
        "df = df_weather.na.fill({\"HourlyDryBulbTemperatureF\": 0, \"HourlyRelativeHumidity\": 0})\n"
      ],
      "metadata": {
        "id": "IFqdb4r21eVT"
      },
      "execution_count": 7,
      "outputs": []
    },
    {
      "cell_type": "markdown",
      "source": [
        "**Create our pipeline**"
      ],
      "metadata": {
        "id": "xQwJ4p_88Xt3"
      }
    },
    {
      "cell_type": "code",
      "source": [
        "from pyspark.ml.feature import Imputer\n",
        "\n",
        "imputer = Imputer(\n",
        "    inputCols=[\"HourlyDryBulbTemperatureF\", \"HourlyRelativeHumidity\"],\n",
        "    outputCols=[\"HourlyDryBulbTemperatureF_imputed\", \"HourlyRelativeHumidity_imputed\"]\n",
        ").setStrategy(\"median\")\n"
      ],
      "metadata": {
        "id": "ZL4HaJBI1kOV"
      },
      "execution_count": 8,
      "outputs": []
    },
    {
      "cell_type": "code",
      "source": [
        "from pyspark.ml import Pipeline\n",
        "from pyspark.ml.feature import Imputer, VectorAssembler, StandardScaler, OneHotEncoder, StringIndexer\n",
        "\n",
        "assembler = VectorAssembler(\n",
        "    inputCols=[\"HourlyDryBulbTemperatureF_imputed\", \"HourlyRelativeHumidity_imputed\"],\n",
        "    outputCol=\"features\"\n",
        ")\n",
        "\n",
        "# Define StandardScaler to scale the numerical features\n",
        "scaler = StandardScaler(\n",
        "    inputCol=\"features\",\n",
        "    outputCol=\"scaledFeatures\",\n",
        "    withStd=True,\n",
        "    withMean=False\n",
        ")"
      ],
      "metadata": {
        "id": "WiQT-kZ41my-"
      },
      "execution_count": 9,
      "outputs": []
    },
    {
      "cell_type": "code",
      "source": [
        "# Define the pipeline which consists of stages\n",
        "pipeline = Pipeline(stages=[imputer, assembler, scaler])\n",
        "\n",
        "# Now you can fit and transform your pipeline\n",
        "pipeline_model = pipeline.fit(df)\n",
        "df_transformed = pipeline_model.transform(df)"
      ],
      "metadata": {
        "id": "1ybCXwyG8O2N"
      },
      "execution_count": 10,
      "outputs": []
    },
    {
      "cell_type": "code",
      "source": [
        "# Show the results of the transformation\n",
        "df_transformed.show()"
      ],
      "metadata": {
        "colab": {
          "base_uri": "https://localhost:8080/"
        },
        "id": "0tROztAp8K8w",
        "outputId": "8abd0e36-b83b-443c-b458-b557217d9d42"
      },
      "execution_count": 11,
      "outputs": [
        {
          "output_type": "stream",
          "name": "stdout",
          "text": [
            "+----------+--------------------+---------+--------+---------+--------------+----------+--------------------+----------------+------------------------+-------------------------+-------------------------+-------------------------+-------------------------+--------------------------+--------------------------+----------------------+---------------+-------------------+-------------------+---------------------+----------------------+--------------------+----------------------+-------------------+----------------------+------------------------------+------------------------------+------------------------------+------------------------------------------+----------------------------+-------------------------------+------------------------------+----------------------+----------------------+------------+-----------+------------------+-------------+--------------+---------------------------+----------------------------+---------------------+------------------+-----------------+-----------------------+---------------------------+---------------------------------+------------------------------+-----------+--------------------+\n",
            "|   STATION|        STATION_NAME|ELEVATION|LATITUDE|LONGITUDE|          DATE|reportType| HourlySkyConditions|HourlyVisibility|HourlyPresentWeatherType|HourlyDryBulbTemperatureF|HourlyDryBulbTemperatureC|HourlyWetBulbTemperatureF|HourlyWetBulbTemperatureC|HourlyDewPointTemperatureF|HourlyDewPointTemperatureC|HourlyRelativeHumidity|HourlyWindSpeed|HourlyWindDirection|HourlyWindGustSpeed|HourlyStationPressure|HourlyPressureTendency|HourlyPressureChange|HourlySeaLevelPressure|HourlyPrecipitation|HourlyAltimeterSetting|DailyMaximumDryBulbTemperature|DailyMinimumDryBulbTemperature|DailyAverageDryBulbTemperature|DailyDepartureFromNormalAverageTemperature|DailyAverageRelativeHumidity|DailyAverageDewPointTemperature|DailyAverageWetBulbTemperature|DailyHeatingDegreeDays|DailyCoolingDegreeDays|DailySunrise|DailySunset|DailyPrecipitation|DailySnowfall|DailySnowDepth|DailyAverageStationPressure|DailyAverageSeaLevelPressure|DailyAverageWindSpeed|DailyPeakWindSpeed|PeakWindDirection|DailySustainedWindSpeed|DailySustainedWindDirection|HourlyDryBulbTemperatureF_imputed|HourlyRelativeHumidity_imputed|   features|      scaledFeatures|\n",
            "+----------+--------------------+---------+--------+---------+--------------+----------+--------------------+----------------+------------------------+-------------------------+-------------------------+-------------------------+-------------------------+--------------------------+--------------------------+----------------------+---------------+-------------------+-------------------+---------------------+----------------------+--------------------+----------------------+-------------------+----------------------+------------------------------+------------------------------+------------------------------+------------------------------------------+----------------------------+-------------------------------+------------------------------+----------------------+----------------------+------------+-----------+------------------+-------------+--------------+---------------------------+----------------------------+---------------------+------------------+-----------------+-----------------------+---------------------------+---------------------------------+------------------------------+-----------+--------------------+\n",
            "|WBAN:94846|CHICAGO OHARE INT...|    201.8|  41.995| -87.9336| 3/1/2014 0:51|     FM-15| SCT:04 70 OVC:08 90|            10.0|                    NULL|                       30|                     -1.1|                       26|                     -3.4|                        16|                      -8.9|                    56|              9|                330|               NULL|                29.28|                  NULL|                NULL|                 30.02|               NULL|                  30.0|                          NULL|                          NULL|                          NULL|                                      NULL|                        NULL|                           NULL|                          NULL|                  NULL|                  NULL|        1227|       2342|              NULL|         NULL|          NULL|                       NULL|                        NULL|                 NULL|              NULL|             NULL|                   NULL|                       NULL|                               30|                            56|[30.0,56.0]|[2.23371029645129...|\n",
            "|WBAN:94846|CHICAGO OHARE INT...|    201.8|  41.995| -87.9336| 3/1/2014 1:51|     FM-15|           OVC:08 50|            10.0|                    NULL|                       30|                     -1.1|                       26|                     -3.3|                        17|                      -8.3|                    58|              0|                  0|               NULL|                29.27|                  NULL|                NULL|                 30.02|               NULL|                 29.99|                          NULL|                          NULL|                          NULL|                                      NULL|                        NULL|                           NULL|                          NULL|                  NULL|                  NULL|        1227|       2342|              NULL|         NULL|          NULL|                       NULL|                        NULL|                 NULL|              NULL|             NULL|                   NULL|                       NULL|                               30|                            58|[30.0,58.0]|[2.23371029645129...|\n",
            "|WBAN:94846|CHICAGO OHARE INT...|    201.8|  41.995| -87.9336| 3/1/2014 2:51|     FM-15|           OVC:08 29|             6.0|         -SN:03 |SN:71 ||                       29|                     -1.7|                       26|                     -3.2|                        21|                      -6.1|                    72|              8|                330|               NULL|                29.28|                     1|               -0.03|                 30.02|              0.01s|                  30.0|                          NULL|                          NULL|                          NULL|                                      NULL|                        NULL|                           NULL|                          NULL|                  NULL|                  NULL|        1227|       2342|              NULL|         NULL|          NULL|                       NULL|                        NULL|                 NULL|              NULL|             NULL|                   NULL|                       NULL|                               29|                            72|[29.0,72.0]|[2.15925328656958...|\n",
            "|WBAN:94846|CHICAGO OHARE INT...|    201.8|  41.995| -87.9336| 3/1/2014 3:51|     FM-15|             VV:09 9|            0.75|         -SN:03 |SN:71 ||                       28|                     -2.2|                       26|                     -3.3|                        23|                      -5.0|                    81|              0|                  0|               NULL|                29.29|                  NULL|                NULL|                 30.04|               0.03|                 30.01|                          NULL|                          NULL|                          NULL|                                      NULL|                        NULL|                           NULL|                          NULL|                  NULL|                  NULL|        1227|       2342|              NULL|         NULL|          NULL|                       NULL|                        NULL|                 NULL|              NULL|             NULL|                   NULL|                       NULL|                               28|                            81|[28.0,81.0]|[2.08479627668787...|\n",
            "|WBAN:94846|CHICAGO OHARE INT...|    201.8|  41.995| -87.9336| 3/1/2014 4:51|     FM-15|            OVC:08 8|            10.0|                    NULL|                       26|                     -3.3|                       24|                     -4.5|                        20|                      -6.7|                    78|             11|                350|               NULL|                29.32|                  NULL|                NULL|                 30.06|               0.01|                 30.04|                          NULL|                          NULL|                          NULL|                                      NULL|                        NULL|                           NULL|                          NULL|                  NULL|                  NULL|        1227|       2342|              NULL|         NULL|          NULL|                       NULL|                        NULL|                 NULL|              NULL|             NULL|                   NULL|                       NULL|                               26|                            78|[26.0,78.0]|[1.93588225692445...|\n",
            "|WBAN:94846|CHICAGO OHARE INT...|    201.8|  41.995| -87.9336| 3/1/2014 5:51|     FM-15| BKN:07 10 OVC:08 20|            10.0|                    NULL|                       25|                     -3.9|                       22|                     -5.3|                        17|                      -8.3|                    72|             11|                360|               NULL|                29.35|                     3|               -0.07|                 30.09|               NULL|                 30.07|                          NULL|                          NULL|                          NULL|                                      NULL|                        NULL|                           NULL|                          NULL|                  NULL|                  NULL|        1227|       2342|              0.06|         NULL|             3|                       NULL|                        NULL|                 NULL|              NULL|             NULL|                   NULL|                       NULL|                               25|                            72|[25.0,72.0]|[1.86142524704274...|\n",
            "|WBAN:94846|CHICAGO OHARE INT...|    201.8|  41.995| -87.9336| 3/1/2014 6:51|     FM-15| BKN:07 12 OVC:08 20|             5.0|      HZ:7 |FU:05 |HZ:05|                       23|                     -5.0|                       21|                     -6.4|                        15|                      -9.4|                    72|              7|                360|               NULL|                29.37|                  NULL|                NULL|                 30.12|               NULL|                 30.09|                          NULL|                          NULL|                          NULL|                                      NULL|                        NULL|                           NULL|                          NULL|                  NULL|                  NULL|        1227|       2342|              NULL|         NULL|          NULL|                       NULL|                        NULL|                 NULL|              NULL|             NULL|                   NULL|                       NULL|                               23|                            72|[23.0,72.0]|[1.71251122727932...|\n",
            "|WBAN:94846|CHICAGO OHARE INT...|    201.8|  41.995| -87.9336| 3/1/2014 7:51|     FM-15| BKN:07 14 OVC:08 25|            10.0|                    NULL|                       21|                     -6.1|                       18|                     -7.5|                        12|                     -11.1|                    68|             11|                360|               NULL|                29.42|                  NULL|                NULL|                 30.17|               NULL|                 30.14|                          NULL|                          NULL|                          NULL|                                      NULL|                        NULL|                           NULL|                          NULL|                  NULL|                  NULL|        1227|       2342|              NULL|         NULL|          NULL|                       NULL|                        NULL|                 NULL|              NULL|             NULL|                   NULL|                       NULL|                               21|                            68|[21.0,68.0]|[1.56359720751590...|\n",
            "|WBAN:94846|CHICAGO OHARE INT...|    201.8|  41.995| -87.9336| 3/1/2014 8:51|     FM-15|           OVC:08 27|             9.0|                    NULL|                       21|                     -6.1|                       18|                     -7.6|                        11|                     -11.7|                    65|              9|                360|               NULL|                29.45|                     2|               -0.09|                 30.19|               NULL|                 30.17|                          NULL|                          NULL|                          NULL|                                      NULL|                        NULL|                           NULL|                          NULL|                  NULL|                  NULL|        1227|       2342|              NULL|         NULL|          NULL|                       NULL|                        NULL|                 NULL|              NULL|             NULL|                   NULL|                       NULL|                               21|                            65|[21.0,65.0]|[1.56359720751590...|\n",
            "|WBAN:94846|CHICAGO OHARE INT...|    201.8|  41.995| -87.9336| 3/1/2014 9:51|     FM-15| SCT:04 27 OVC:08 35|            10.0|                    NULL|                       21|                     -6.1|                       18|                     -7.7|                        10|                     -12.2|                    62|              9|                360|               NULL|                29.46|                  NULL|                NULL|                 30.21|               NULL|                 30.18|                          NULL|                          NULL|                          NULL|                                      NULL|                        NULL|                           NULL|                          NULL|                  NULL|                  NULL|        1227|       2342|              NULL|         NULL|          NULL|                       NULL|                        NULL|                 NULL|              NULL|             NULL|                   NULL|                       NULL|                               21|                            62|[21.0,62.0]|[1.56359720751590...|\n",
            "|WBAN:94846|CHICAGO OHARE INT...|    201.8|  41.995| -87.9336|3/1/2014 10:51|     FM-15|BKN:07 35 OVC:08 150|            10.0|                    NULL|                       21|                     -6.1|                       18|                     -7.8|                         9|                     -12.8|                    59|             11|                340|               NULL|                29.49|                  NULL|                NULL|                 30.24|               NULL|                 30.21|                          NULL|                          NULL|                          NULL|                                      NULL|                        NULL|                           NULL|                          NULL|                  NULL|                  NULL|        1227|       2342|              NULL|         NULL|          NULL|                       NULL|                        NULL|                 NULL|              NULL|             NULL|                   NULL|                       NULL|                               21|                            59|[21.0,59.0]|[1.56359720751590...|\n",
            "|WBAN:94846|CHICAGO OHARE INT...|    201.8|  41.995| -87.9336|3/1/2014 11:51|     FM-15|SCT:04 45 BKN:07 ...|            10.0|                    NULL|                       21|                     -6.1|                       18|                     -8.0|                         7|                     -13.9|                    54|              9|                360|               NULL|                29.49|                     1|               -0.04|                 30.24|                  T|                 30.21|                          NULL|                          NULL|                          NULL|                                      NULL|                        NULL|                           NULL|                          NULL|                  NULL|                  NULL|        1227|       2342|              NULL|         NULL|             3|                       NULL|                        NULL|                 NULL|              NULL|             NULL|                   NULL|                       NULL|                               21|                            54|[21.0,54.0]|[1.56359720751590...|\n",
            "|WBAN:94846|CHICAGO OHARE INT...|    201.8|  41.995| -87.9336|3/1/2014 12:51|     FM-15|BKN:07 45 BKN:07 100|            10.0|                    NULL|                       22|                     -5.6|                       18|                     -7.6|                         6|                     -14.4|                    50|             10|                340|               NULL|                 29.5|                  NULL|                NULL|                 30.25|                  T|                 30.22|                          NULL|                          NULL|                          NULL|                                      NULL|                        NULL|                           NULL|                          NULL|                  NULL|                  NULL|        1227|       2342|              NULL|         NULL|          NULL|                       NULL|                        NULL|                 NULL|              NULL|             NULL|                   NULL|                       NULL|                               22|                            50|[22.0,50.0]|[1.63805421739761...|\n",
            "|WBAN:94846|CHICAGO OHARE INT...|    201.8|  41.995| -87.9336|3/1/2014 13:51|     FM-15|BKN:07 55 BKN:07 ...|            10.0|                    NULL|                       22|                     -5.6|                       19|                     -7.5|                         8|                     -13.3|                    55|              8|                 10|               NULL|                29.47|                  NULL|                NULL|                 30.22|               NULL|                 30.19|                          NULL|                          NULL|                          NULL|                                      NULL|                        NULL|                           NULL|                          NULL|                  NULL|                  NULL|        1227|       2342|              NULL|         NULL|          NULL|                       NULL|                        NULL|                 NULL|              NULL|             NULL|                   NULL|                       NULL|                               22|                            55|[22.0,55.0]|[1.63805421739761...|\n",
            "|WBAN:94846|CHICAGO OHARE INT...|    201.8|  41.995| -87.9336|3/1/2014 14:51|     FM-15|FEW:02 25 BKN:07 ...|            10.0|         -SN:03 |SN:71 ||                       20|                     -6.7|                       17|                     -8.2|                        10|                     -12.2|                    65|             13|                350|               NULL|                29.51|                     3|               -0.01|                 30.26|                  T|                 30.23|                          NULL|                          NULL|                          NULL|                                      NULL|                        NULL|                           NULL|                          NULL|                  NULL|                  NULL|        1227|       2342|              NULL|         NULL|          NULL|                       NULL|                        NULL|                 NULL|              NULL|             NULL|                   NULL|                       NULL|                               20|                            65|[20.0,65.0]|[1.48914019763419...|\n",
            "|WBAN:94846|CHICAGO OHARE INT...|    201.8|  41.995| -87.9336|3/1/2014 15:51|     FM-15| BKN:07 18 OVC:08 50|             6.0|         -SN:03 |SN:71 ||                       18|                     -7.8|                       16|                     -9.1|                         9|                     -12.8|                    68|             14|                360|               NULL|                 29.5|                  NULL|                NULL|                 30.25|                  T|                 30.22|                          NULL|                          NULL|                          NULL|                                      NULL|                        NULL|                           NULL|                          NULL|                  NULL|                  NULL|        1227|       2342|              NULL|         NULL|          NULL|                       NULL|                        NULL|                 NULL|              NULL|             NULL|                   NULL|                       NULL|                               18|                            68|[18.0,68.0]|[1.34022617787077...|\n",
            "|WBAN:94846|CHICAGO OHARE INT...|    201.8|  41.995| -87.9336|3/1/2014 16:51|     FM-15|SCT:04 12 BKN:07 ...|             5.0|         -SN:03 |SN:71 ||                       16|                     -8.9|                       14|                     -9.9|                         9|                     -12.8|                    74|              9|                360|               NULL|                29.53|                  NULL|                NULL|                 30.29|               0.03|                 30.25|                          NULL|                          NULL|                          NULL|                                      NULL|                        NULL|                           NULL|                          NULL|                  NULL|                  NULL|        1227|       2342|              NULL|         NULL|          NULL|                       NULL|                        NULL|                 NULL|              NULL|             NULL|                   NULL|                       NULL|                               16|                            74|[16.0,74.0]|[1.19131215810735...|\n",
            "|WBAN:94846|CHICAGO OHARE INT...|    201.8|  41.995| -87.9336|3/1/2014 17:51|     FM-15|            VV:09 10|             0.5|        SN:03 |SN:72 s ||                       15|                     -9.4|                       13|                    -10.5|                         8|                     -13.3|                    74|              9|                 10|               NULL|                29.54|                     0|               -0.01|                  30.3|          0.060.05s|                 30.26|                          NULL|                          NULL|                          NULL|                                      NULL|                        NULL|                           NULL|                          NULL|                  NULL|                  NULL|        1227|       2342|              NULL|         NULL|             3|                       NULL|                        NULL|                 NULL|              NULL|             NULL|                   NULL|                       NULL|                               15|                            74|[15.0,74.0]|[1.11685514822564...|\n",
            "|WBAN:94846|CHICAGO OHARE INT...|    201.8|  41.995| -87.9336|3/1/2014 18:51|     FM-15|            VV:09 11|             1.0|         -SN:03 |SN:71 ||                       14|                    -10.0|                       12|                    -10.9|                         8|                     -13.3|                    77|              9|                350|               NULL|                29.56|                  NULL|                NULL|                 30.32|               0.04|                 30.28|                          NULL|                          NULL|                          NULL|                                      NULL|                        NULL|                           NULL|                          NULL|                  NULL|                  NULL|        1226|       2343|              NULL|         NULL|          NULL|                       NULL|                        NULL|                 NULL|              NULL|             NULL|                   NULL|                       NULL|                               14|                            77|[14.0,77.0]|[1.04239813834393...|\n",
            "|WBAN:94846|CHICAGO OHARE INT...|    201.8|  41.995| -87.9336|3/1/2014 19:51|     FM-15|           OVC:08 17|             1.5|         -SN:03 |SN:71 ||                       13|                    -10.6|                       11|                    -11.5|                         6|                     -14.4|                    74|              9|                360|               NULL|                29.56|                  NULL|                NULL|                 30.32|               0.03|                 30.28|                          NULL|                          NULL|                          NULL|                                      NULL|                        NULL|                           NULL|                          NULL|                  NULL|                  NULL|        1226|       2343|              NULL|         NULL|          NULL|                       NULL|                        NULL|                 NULL|              NULL|             NULL|                   NULL|                       NULL|                               13|                            74|[13.0,74.0]|[0.96794112846222...|\n",
            "+----------+--------------------+---------+--------+---------+--------------+----------+--------------------+----------------+------------------------+-------------------------+-------------------------+-------------------------+-------------------------+--------------------------+--------------------------+----------------------+---------------+-------------------+-------------------+---------------------+----------------------+--------------------+----------------------+-------------------+----------------------+------------------------------+------------------------------+------------------------------+------------------------------------------+----------------------------+-------------------------------+------------------------------+----------------------+----------------------+------------+-----------+------------------+-------------+--------------+---------------------------+----------------------------+---------------------+------------------+-----------------+-----------------------+---------------------------+---------------------------------+------------------------------+-----------+--------------------+\n",
            "only showing top 20 rows\n",
            "\n"
          ]
        }
      ]
    },
    {
      "cell_type": "markdown",
      "source": [
        "# Performing EDA for visibilty and weather conditions"
      ],
      "metadata": {
        "id": "KMtbszff-5Yw"
      }
    },
    {
      "cell_type": "code",
      "source": [
        "df.select('HourlyDryBulbTemperatureF').describe().show()\n",
        "df.select('HourlyDryBulbTemperatureC').describe().show()\n"
      ],
      "metadata": {
        "colab": {
          "base_uri": "https://localhost:8080/"
        },
        "id": "j60QgKlJ_r77",
        "outputId": "e373a61e-745b-4922-9948-83c8d1356958"
      },
      "execution_count": 12,
      "outputs": [
        {
          "output_type": "stream",
          "name": "stdout",
          "text": [
            "+-------+-------------------------+\n",
            "|summary|HourlyDryBulbTemperatureF|\n",
            "+-------+-------------------------+\n",
            "|  count|                      772|\n",
            "|   mean|        30.39896373056995|\n",
            "| stddev|       13.430568882482735|\n",
            "|    min|                       -1|\n",
            "|    max|                       67|\n",
            "+-------+-------------------------+\n",
            "\n",
            "+-------+-------------------------+\n",
            "|summary|HourlyDryBulbTemperatureC|\n",
            "+-------+-------------------------+\n",
            "|  count|                      742|\n",
            "|   mean|     -0.20835579514824798|\n",
            "| stddev|        6.778429727720414|\n",
            "|    min|                    -18.3|\n",
            "|    max|                     19.4|\n",
            "+-------+-------------------------+\n",
            "\n"
          ]
        }
      ]
    },
    {
      "cell_type": "code",
      "source": [
        "import matplotlib.pyplot as plt\n",
        "\n",
        "# Assuming 'HourlyDryBulbTemperatureF' is within a Pandas DataFrame for visualization\n",
        "df_pd = df.toPandas()  # Convert Spark DataFrame to Pandas DataFrame for plotting\n",
        "plt.hist(df_pd['HourlyDryBulbTemperatureF'], bins=20, alpha=0.7)\n",
        "plt.title('Distribution of Hourly Dry Bulb Temperature (F)')\n",
        "plt.xlabel('Temperature (°F)')\n",
        "plt.ylabel('Frequency')\n",
        "plt.show()\n"
      ],
      "metadata": {
        "colab": {
          "base_uri": "https://localhost:8080/",
          "height": 472
        },
        "id": "Tu17rF19_0S0",
        "outputId": "41491963-278a-4285-e55a-7f993f996093"
      },
      "execution_count": 13,
      "outputs": [
        {
          "output_type": "display_data",
          "data": {
            "text/plain": [
              "<Figure size 640x480 with 1 Axes>"
            ],
            "image/png": "[encoded data removed]"
          },
          "metadata": {}
        }
      ]
    },
    {
      "cell_type": "code",
      "source": [
        "from pyspark.sql.functions import col\n",
        "\n",
        "df = df.withColumn(\"HourlyPrecipitation\", col(\"HourlyPrecipitation\").cast(\"float\"))\n",
        "df.printSchema()  # Check to ensure the conversion was successful\n"
      ],
      "metadata": {
        "colab": {
          "base_uri": "https://localhost:8080/"
        },
        "id": "IhweYe4JA9Y6",
        "outputId": "a153a736-3660-481d-a60a-bb5acc36b414"
      },
      "execution_count": 14,
      "outputs": [
        {
          "output_type": "stream",
          "name": "stdout",
          "text": [
            "root\n",
            " |-- STATION: string (nullable = true)\n",
            " |-- STATION_NAME: string (nullable = true)\n",
            " |-- ELEVATION: double (nullable = true)\n",
            " |-- LATITUDE: double (nullable = true)\n",
            " |-- LONGITUDE: double (nullable = true)\n",
            " |-- DATE: string (nullable = true)\n",
            " |-- reportType: string (nullable = true)\n",
            " |-- HourlySkyConditions: string (nullable = true)\n",
            " |-- HourlyVisibility: double (nullable = true)\n",
            " |-- HourlyPresentWeatherType: string (nullable = true)\n",
            " |-- HourlyDryBulbTemperatureF: integer (nullable = false)\n",
            " |-- HourlyDryBulbTemperatureC: double (nullable = true)\n",
            " |-- HourlyWetBulbTemperatureF: integer (nullable = true)\n",
            " |-- HourlyWetBulbTemperatureC: double (nullable = true)\n",
            " |-- HourlyDewPointTemperatureF: integer (nullable = true)\n",
            " |-- HourlyDewPointTemperatureC: double (nullable = true)\n",
            " |-- HourlyRelativeHumidity: integer (nullable = false)\n",
            " |-- HourlyWindSpeed: integer (nullable = true)\n",
            " |-- HourlyWindDirection: string (nullable = true)\n",
            " |-- HourlyWindGustSpeed: integer (nullable = true)\n",
            " |-- HourlyStationPressure: double (nullable = true)\n",
            " |-- HourlyPressureTendency: integer (nullable = true)\n",
            " |-- HourlyPressureChange: double (nullable = true)\n",
            " |-- HourlySeaLevelPressure: string (nullable = true)\n",
            " |-- HourlyPrecipitation: float (nullable = true)\n",
            " |-- HourlyAltimeterSetting: double (nullable = true)\n",
            " |-- DailyMaximumDryBulbTemperature: integer (nullable = true)\n",
            " |-- DailyMinimumDryBulbTemperature: integer (nullable = true)\n",
            " |-- DailyAverageDryBulbTemperature: integer (nullable = true)\n",
            " |-- DailyDepartureFromNormalAverageTemperature: double (nullable = true)\n",
            " |-- DailyAverageRelativeHumidity: integer (nullable = true)\n",
            " |-- DailyAverageDewPointTemperature: string (nullable = true)\n",
            " |-- DailyAverageWetBulbTemperature: integer (nullable = true)\n",
            " |-- DailyHeatingDegreeDays: integer (nullable = true)\n",
            " |-- DailyCoolingDegreeDays: integer (nullable = true)\n",
            " |-- DailySunrise: integer (nullable = true)\n",
            " |-- DailySunset: integer (nullable = true)\n",
            " |-- DailyPrecipitation: string (nullable = true)\n",
            " |-- DailySnowfall: string (nullable = true)\n",
            " |-- DailySnowDepth: integer (nullable = true)\n",
            " |-- DailyAverageStationPressure: integer (nullable = true)\n",
            " |-- DailyAverageSeaLevelPressure: integer (nullable = true)\n",
            " |-- DailyAverageWindSpeed: integer (nullable = true)\n",
            " |-- DailyPeakWindSpeed: integer (nullable = true)\n",
            " |-- PeakWindDirection: integer (nullable = true)\n",
            " |-- DailySustainedWindSpeed: integer (nullable = true)\n",
            " |-- DailySustainedWindDirection: integer (nullable = true)\n",
            "\n"
          ]
        }
      ]
    },
    {
      "cell_type": "code",
      "source": [
        "correlation_value = df.stat.corr('HourlyDryBulbTemperatureF', 'HourlyPrecipitation')\n",
        "print(f\"Correlation between Temperature and Precipitation: {correlation_value}\")\n"
      ],
      "metadata": {
        "colab": {
          "base_uri": "https://localhost:8080/"
        },
        "id": "QQbL4veABXN6",
        "outputId": "d82b30a5-b756-49ae-9b7a-9eaa5d6802cb"
      },
      "execution_count": 15,
      "outputs": [
        {
          "output_type": "stream",
          "name": "stdout",
          "text": [
            "Correlation between Temperature and Precipitation: 0.003949929727518378\n"
          ]
        }
      ]
    },
    {
      "cell_type": "code",
      "source": [
        "from pyspark.sql.functions import log, col\n",
        "\n",
        "# Assuming 'HourlyPrecipitation' has no zero or negative values; otherwise, adjust it first\n",
        "df = df.withColumn(\"LogHourlyPrecipitation\", log(col(\"HourlyPrecipitation\") + 1))  # Adding 1 to avoid log(0)\n",
        "\n",
        "# Check new correlation\n",
        "new_correlation = df.stat.corr('HourlyDryBulbTemperatureF', 'LogHourlyPrecipitation')\n",
        "print(f\"New Correlation between Temperature and Log of Precipitation: {new_correlation}\")\n"
      ],
      "metadata": {
        "colab": {
          "base_uri": "https://localhost:8080/"
        },
        "id": "Rpn2i1bBHsWd",
        "outputId": "85a80c74-0270-4e3d-fa02-e8d7f44864b4"
      },
      "execution_count": 16,
      "outputs": [
        {
          "output_type": "stream",
          "name": "stdout",
          "text": [
            "New Correlation between Temperature and Log of Precipitation: 0.003620591388232587\n"
          ]
        }
      ]
    },
    {
      "cell_type": "code",
      "source": [
        "from pyspark.sql.functions import isnan, when, count, col\n",
        "\n",
        "df.select([count(when(isnan('HourlyPrecipitation') | col('HourlyPrecipitation').isNull(), 'HourlyPrecipitation')).alias('MissingValues')]).show()\n"
      ],
      "metadata": {
        "colab": {
          "base_uri": "https://localhost:8080/"
        },
        "id": "nsKaCPS9IPaN",
        "outputId": "6601a68f-e7a1-43ca-c151-752080502263"
      },
      "execution_count": 17,
      "outputs": [
        {
          "output_type": "stream",
          "name": "stdout",
          "text": [
            "+-------------+\n",
            "|MissingValues|\n",
            "+-------------+\n",
            "|          721|\n",
            "+-------------+\n",
            "\n"
          ]
        }
      ]
    },
    {
      "cell_type": "code",
      "source": [
        "df_clean = df.na.drop(subset=[\"HourlyPrecipitation\"])\n",
        "print(\"Remaining rows:\", df_clean.count())\n"
      ],
      "metadata": {
        "colab": {
          "base_uri": "https://localhost:8080/"
        },
        "id": "vRkIh-lRJuie",
        "outputId": "3a45d85f-ef18-42d8-bc4f-17a58680df49"
      },
      "execution_count": 18,
      "outputs": [
        {
          "output_type": "stream",
          "name": "stdout",
          "text": [
            "Remaining rows: 51\n"
          ]
        }
      ]
    },
    {
      "cell_type": "code",
      "source": [
        "from pyspark.ml.feature import Imputer\n",
        "\n",
        "imputer = Imputer(\n",
        "    inputCols=[\"HourlyPrecipitation\"],\n",
        "    outputCols=[\"HourlyPrecipitationImputed\"]\n",
        ").setStrategy(\"mean\")  # You can also use \"median\" or \"mode\"\n",
        "\n",
        "df_imputed = imputer.fit(df).transform(df)\n",
        "df_imputed"
      ],
      "metadata": {
        "colab": {
          "base_uri": "https://localhost:8080/"
        },
        "id": "i3MLcCqpJ2pu",
        "outputId": "2fff2c27-49df-4c4b-f027-b941482e4fb4"
      },
      "execution_count": 25,
      "outputs": [
        {
          "output_type": "execute_result",
          "data": {
            "text/plain": [
              "DataFrame[STATION: string, STATION_NAME: string, ELEVATION: double, LATITUDE: double, LONGITUDE: double, DATE: string, reportType: string, HourlySkyConditions: string, HourlyVisibility: double, HourlyPresentWeatherType: string, HourlyDryBulbTemperatureF: int, HourlyDryBulbTemperatureC: double, HourlyWetBulbTemperatureF: int, HourlyWetBulbTemperatureC: double, HourlyDewPointTemperatureF: int, HourlyDewPointTemperatureC: double, HourlyRelativeHumidity: int, HourlyWindSpeed: int, HourlyWindDirection: string, HourlyWindGustSpeed: int, HourlyStationPressure: double, HourlyPressureTendency: int, HourlyPressureChange: double, HourlySeaLevelPressure: string, HourlyPrecipitation: float, HourlyAltimeterSetting: double, DailyMaximumDryBulbTemperature: int, DailyMinimumDryBulbTemperature: int, DailyAverageDryBulbTemperature: int, DailyDepartureFromNormalAverageTemperature: double, DailyAverageRelativeHumidity: int, DailyAverageDewPointTemperature: string, DailyAverageWetBulbTemperature: int, DailyHeatingDegreeDays: int, DailyCoolingDegreeDays: int, DailySunrise: int, DailySunset: int, DailyPrecipitation: string, DailySnowfall: string, DailySnowDepth: int, DailyAverageStationPressure: int, DailyAverageSeaLevelPressure: int, DailyAverageWindSpeed: int, DailyPeakWindSpeed: int, PeakWindDirection: int, DailySustainedWindSpeed: int, DailySustainedWindDirection: int, LogHourlyPrecipitation: double, HourlyPrecipitationImputed: float]"
            ]
          },
          "metadata": {},
          "execution_count": 25
        }
      ]
    },
    {
      "cell_type": "code",
      "source": [
        "from pyspark.sql.functions import col\n",
        "\n",
        "# Assuming you know the columns or detect them dynamically\n",
        "columns_to_fill = [\"HourlyDryBulbTemperatureF\", \"HourlyWindSpeed\", \"HourlyRelativeHumidity\"]\n",
        "fill_values = {col: 0 for col in columns_to_fill}  # Replace '0' with an appropriate value for your context\n",
        "df_filled = df_imputed.na.fill(fill_values)\n",
        "\n",
        "# Now use df_filled to fit the model\n",
        "model = pipeline.fit(df_filled)\n"
      ],
      "metadata": {
        "id": "okFLkRymK3Ck"
      },
      "execution_count": 26,
      "outputs": []
    },
    {
      "cell_type": "code",
      "source": [
        "for column in columns_to_fill:\n",
        "    null_count = df_imputed.where(col(column).isNull()).count()\n",
        "    print(f\"Nulls in {column}: {null_count}\")\n"
      ],
      "metadata": {
        "colab": {
          "base_uri": "https://localhost:8080/"
        },
        "id": "oOzCfjX-uo6k",
        "outputId": "3f1c340f-f29a-4b4a-8c71-9603661bed4b"
      },
      "execution_count": 27,
      "outputs": [
        {
          "output_type": "stream",
          "name": "stdout",
          "text": [
            "Nulls in HourlyDryBulbTemperatureF: 0\n",
            "Nulls in HourlyWindSpeed: 30\n",
            "Nulls in HourlyRelativeHumidity: 0\n"
          ]
        }
      ]
    },
    {
      "cell_type": "markdown",
      "source": [
        "# Decision Tree model"
      ],
      "metadata": {
        "id": "fEZD5IsVLkRR"
      }
    },
    {
      "cell_type": "code",
      "source": [
        "from pyspark.ml.feature import VectorAssembler\n",
        "\n",
        "assembler = VectorAssembler(\n",
        "    inputCols=[\"HourlyDryBulbTemperatureF\", \"HourlyWindSpeed\", \"HourlyRelativeHumidity\"],\n",
        "    outputCol=\"features\"\n",
        ")\n"
      ],
      "metadata": {
        "id": "8QfnM2mALng_"
      },
      "execution_count": 28,
      "outputs": []
    },
    {
      "cell_type": "code",
      "source": [
        "from pyspark.ml.regression import DecisionTreeRegressor\n",
        "\n",
        "# For a regression problem\n",
        "dt = DecisionTreeRegressor(featuresCol=\"features\", labelCol=\"HourlyPrecipitationImputed\")\n",
        "\n",
        "# If it was a classification problem, you'd use:\n",
        "# from pyspark.ml.classification import DecisionTreeClassifier\n",
        "# dt = DecisionTreeClassifier(featuresCol=\"features\", labelCol=\"TargetColumn\")\n"
      ],
      "metadata": {
        "id": "c3m8IiAmLsoT"
      },
      "execution_count": 29,
      "outputs": []
    },
    {
      "cell_type": "code",
      "source": [
        "# Columns used in the model\n",
        "columns_to_fill = [\"HourlyDryBulbTemperatureF\", \"HourlyWindSpeed\", \"HourlyRelativeHumidity\"]\n",
        "fill_values = {col: df_imputed.agg({col: \"mean\"}).first()[0] for col in columns_to_fill}  # Using mean to fill\n",
        "\n",
        "# Filling null values\n",
        "df_imputed_filled = df_imputed.fillna(fill_values)\n",
        "\n",
        "# Recreate the pipeline and fit the model using the filled DataFrame\n",
        "pipeline = Pipeline(stages=[assembler, dt])\n",
        "model = pipeline.fit(df_imputed_filled)\n"
      ],
      "metadata": {
        "id": "X--6EFYELzi5"
      },
      "execution_count": 33,
      "outputs": []
    },
    {
      "cell_type": "code",
      "source": [
        "from pyspark.ml.feature import VectorAssembler\n",
        "\n",
        "# Configure VectorAssembler with a strategy to handle nulls\n",
        "assembler = VectorAssembler(\n",
        "    inputCols=[\"HourlyDryBulbTemperatureF\", \"HourlyWindSpeed\", \"HourlyRelativeHumidity\"],\n",
        "    outputCol=\"features\",\n",
        "    handleInvalid=\"skip\"  # This will skip rows with any null values\n",
        ")\n",
        "\n",
        "# Update the pipeline\n",
        "pipeline = Pipeline(stages=[assembler, dt])\n",
        "model = pipeline.fit(df_imputed_filled)\n"
      ],
      "metadata": {
        "id": "wYckINN-L4Nr"
      },
      "execution_count": 34,
      "outputs": []
    },
    {
      "cell_type": "code",
      "source": [
        "# Make predictions\n",
        "predictions = model.transform(df_imputed_filled)\n",
        "\n",
        "# Show predictions\n",
        "predictions.select(\"features\", \"HourlyPrecipitationImputed\", \"prediction\").show(5)\n",
        "\n",
        "# Evaluate the model\n",
        "from pyspark.ml.evaluation import RegressionEvaluator\n",
        "evaluator = RegressionEvaluator(\n",
        "    labelCol=\"HourlyPrecipitationImputed\",\n",
        "    predictionCol=\"prediction\",\n",
        "    metricName=\"rmse\"\n",
        ")\n",
        "\n",
        "# Calculate RMSE\n",
        "rmse = evaluator.evaluate(predictions)\n",
        "print(f\"Root Mean Squared Error (RMSE) on test data = {rmse}\")\n"
      ],
      "metadata": {
        "colab": {
          "base_uri": "https://localhost:8080/"
        },
        "id": "7Rop_6OpXNJn",
        "outputId": "0341ecaf-fdcc-4eb4-d6cf-1eaf7540fe4d"
      },
      "execution_count": 35,
      "outputs": [
        {
          "output_type": "stream",
          "name": "stdout",
          "text": [
            "+----------------+--------------------------+--------------------+\n",
            "|        features|HourlyPrecipitationImputed|          prediction|\n",
            "+----------------+--------------------------+--------------------+\n",
            "| [30.0,9.0,56.0]|               0.030980391|0.030980391427874565|\n",
            "| [30.0,0.0,58.0]|               0.030980391|0.030980391427874565|\n",
            "| [29.0,8.0,72.0]|               0.030980391| 0.02987179418022816|\n",
            "| [28.0,0.0,81.0]|                      0.03|0.030951556366156128|\n",
            "|[26.0,11.0,78.0]|                      0.01| 0.01777777738041348|\n",
            "+----------------+--------------------------+--------------------+\n",
            "only showing top 5 rows\n",
            "\n",
            "Root Mean Squared Error (RMSE) on test data = 0.003288441194758109\n"
          ]
        }
      ]
    },
    {
      "cell_type": "code",
      "source": [
        "print(model.stages[-1].toDebugString)\n"
      ],
      "metadata": {
        "colab": {
          "base_uri": "https://localhost:8080/"
        },
        "id": "bhGtIMUGL8Ms",
        "outputId": "a3264575-8325-48c0-8441-7f68efeba931"
      },
      "execution_count": 36,
      "outputs": [
        {
          "output_type": "stream",
          "name": "stdout",
          "text": [
            "DecisionTreeRegressionModel: uid=DecisionTreeRegressor_e6458012eee9, depth=5, numNodes=43, numFeatures=3\n",
            "  If (feature 2 <= 81.5)\n",
            "   If (feature 2 <= 71.5)\n",
            "    If (feature 2 <= 67.5)\n",
            "     Predict: 0.030980391427874565\n",
            "    Else (feature 2 > 67.5)\n",
            "     If (feature 0 <= 12.5)\n",
            "      If (feature 1 <= 6.5)\n",
            "       Predict: 0.030980391427874565\n",
            "      Else (feature 1 > 6.5)\n",
            "       Predict: 0.01699346366027991\n",
            "     Else (feature 0 > 12.5)\n",
            "      If (feature 0 <= 26.5)\n",
            "       Predict: 0.029814814113908343\n",
            "      Else (feature 0 > 26.5)\n",
            "       Predict: 0.030980391427874565\n",
            "   Else (feature 2 > 71.5)\n",
            "    If (feature 1 <= 10.5)\n",
            "     If (feature 0 <= 42.5)\n",
            "      If (feature 1 <= 7.5)\n",
            "       Predict: 0.030951556366156128\n",
            "      Else (feature 1 > 7.5)\n",
            "       Predict: 0.02987179418022816\n",
            "     Else (feature 0 > 42.5)\n",
            "      If (feature 2 <= 76.5)\n",
            "       Predict: 0.030980391427874565\n",
            "      Else (feature 2 > 76.5)\n",
            "       Predict: 0.009999999776482582\n",
            "    Else (feature 1 > 10.5)\n",
            "     If (feature 0 <= 26.5)\n",
            "      If (feature 2 <= 72.5)\n",
            "       Predict: 0.030980391427874565\n",
            "      Else (feature 2 > 72.5)\n",
            "       Predict: 0.01777777738041348\n",
            "     Else (feature 0 > 26.5)\n",
            "      If (feature 0 <= 37.5)\n",
            "       Predict: 0.026352940561870732\n",
            "      Else (feature 0 > 37.5)\n",
            "       Predict: 0.03120204539078733\n",
            "  Else (feature 2 > 81.5)\n",
            "   If (feature 1 <= 19.0)\n",
            "    If (feature 1 <= 15.5)\n",
            "     If (feature 0 <= 43.5)\n",
            "      If (feature 0 <= 42.5)\n",
            "       Predict: 0.03420167988432305\n",
            "      Else (feature 0 > 42.5)\n",
            "       Predict: 0.06000000052154064\n",
            "     Else (feature 0 > 43.5)\n",
            "      If (feature 1 <= 9.5)\n",
            "       Predict: 0.019999999552965164\n",
            "      Else (feature 1 > 9.5)\n",
            "       Predict: 0.030980391427874565\n",
            "    Else (feature 1 > 15.5)\n",
            "     If (feature 0 <= 33.5)\n",
            "      If (feature 0 <= 32.5)\n",
            "       Predict: 0.07000000029802322\n",
            "      Else (feature 0 > 32.5)\n",
            "       Predict: 0.07999999821186066\n",
            "     Else (feature 0 > 33.5)\n",
            "      Predict: 0.030980391427874565\n",
            "   Else (feature 1 > 19.0)\n",
            "    If (feature 0 <= 31.5)\n",
            "     Predict: 0.20999999344348907\n",
            "    Else (feature 0 > 31.5)\n",
            "     Predict: 0.009999999776482582\n",
            "\n"
          ]
        }
      ]
    }
  ]
}